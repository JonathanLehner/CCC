{
 "cells": [
  {
   "cell_type": "markdown",
   "metadata": {},
   "source": [
    "Create a model using built-in library from Pytorch.\n",
    "This code closelt follows nn_tutorial notebook."
   ]
  },
  {
   "cell_type": "code",
   "execution_count": 1,
   "metadata": {},
   "outputs": [],
   "source": [
    "import csv, torch, math\n",
    "\n",
    "### read in target and attr input files\n",
    "target_file = 'target_in.csv'\n",
    "attr_file = 'attr_in.csv'\n",
    "\n",
    "with open(target_file, 'r') as f: \n",
    "    reader = csv.reader(f)\n",
    "    target_input_list = list(reader)\n",
    "    \n",
    "with open(attr_file, 'r') as f: \n",
    "    reader = csv.reader(f)\n",
    "    attr_input_list = list(reader)"
   ]
  },
  {
   "cell_type": "markdown",
   "metadata": {},
   "source": [
    "target_input_list is in list of lists. We want it to be a list of characters.\n",
    "attr_input is also a list of string lists. We want it to be a list of float lists."
   ]
  },
  {
   "cell_type": "code",
   "execution_count": 2,
   "metadata": {},
   "outputs": [],
   "source": [
    "target_input = [''.join(sublist) for sublist in target_input_list]\n",
    "attr_input = [[float(x) for x in t] for t in attr_input_list]"
   ]
  },
  {
   "cell_type": "markdown",
   "metadata": {},
   "source": [
    "The current target is a string of the actual sound. We want it to be number of that it is computable when we train the model. We convert as the following:\n",
    "'s': 0\n",
    "'x': 1\n",
    "'neither': 2"
   ]
  },
  {
   "cell_type": "code",
   "execution_count": 3,
   "metadata": {},
   "outputs": [],
   "source": [
    "coded_y = []\n",
    "for i in target_input:\n",
    "    if i == 's': \n",
    "        coded_y.append(0)\n",
    "    elif i == 'x':\n",
    "        coded_y.append(1)\n",
    "    else:\n",
    "        coded_y.append(2)\n",
    "\n",
    "\n",
    "## convert arrays and lists into tensors for training\n",
    "x_train, y_train = map(torch.tensor, (attr_input, coded_y))"
   ]
  },
  {
   "cell_type": "markdown",
   "metadata": {},
   "source": [
    "x_train and y_train should be in the right shapes."
   ]
  },
  {
   "cell_type": "code",
   "execution_count": 4,
   "metadata": {},
   "outputs": [
    {
     "name": "stdout",
     "output_type": "stream",
     "text": [
      "torch.Size([101, 3545]) torch.Size([101])\n"
     ]
    }
   ],
   "source": [
    "print(x_train.shape, y_train.shape)"
   ]
  },
  {
   "cell_type": "markdown",
   "metadata": {},
   "source": [
    "Since there are three classes, we set D_out to 3. n is total number of instances and c is the number of attributes in each instance. We use a loss function from torch.nn.functional."
   ]
  },
  {
   "cell_type": "code",
   "execution_count": 33,
   "metadata": {},
   "outputs": [],
   "source": [
    "n,c = x_train.shape\n",
    "D_out = 3\n",
    "lr = 0.5\n",
    "epochs = 3\n",
    "bs = 5\n",
    "\n",
    "import torch.nn.functional as F\n",
    "\n",
    "loss_func = F.cross_entropy\n",
    "\n",
    "def model(xb):\n",
    "    return xb @ weights + bias"
   ]
  },
  {
   "cell_type": "markdown",
   "metadata": {},
   "source": [
    "Try a simple linear combination from model() and check if the shapes are as expected."
   ]
  },
  {
   "cell_type": "code",
   "execution_count": 28,
   "metadata": {},
   "outputs": [
    {
     "name": "stdout",
     "output_type": "stream",
     "text": [
      "torch.Size([101, 3545]) torch.Size([101, 3]) torch.Size([101])\n"
     ]
    }
   ],
   "source": [
    "preds = model(x_train) \n",
    "print(x_train.shape, preds.shape, y_train.shape)"
   ]
  },
  {
   "cell_type": "markdown",
   "metadata": {},
   "source": [
    "Try running loss function on the inputs"
   ]
  },
  {
   "cell_type": "code",
   "execution_count": 29,
   "metadata": {},
   "outputs": [
    {
     "data": {
      "text/plain": [
       "tensor(32.1340, grad_fn=<NllLossBackward>)"
      ]
     },
     "execution_count": 29,
     "metadata": {},
     "output_type": "execute_result"
    }
   ],
   "source": [
    "loss_func(preds, y_train)"
   ]
  },
  {
   "cell_type": "code",
   "execution_count": 30,
   "metadata": {},
   "outputs": [],
   "source": [
    "from torch import nn\n",
    "from torch import optim\n",
    "\n",
    "class SoundRecognition(nn.Module):\n",
    "    def __init__(self):\n",
    "        super().__init__()\n",
    "        \n",
    "        ## This one line does the same thing as the two lines below \n",
    "        ## and [xb @ self.weights + self.bias]\n",
    "        self.lin = nn.Linear(c, D_out)\n",
    "#         self.weights = nn.Parameter(torch.randn(c, D_out) / math.sqrt(c))\n",
    "#         self.bias = nn.Parameter(torch.zeros(D_out))\n",
    "        \n",
    "    def forward(self, xb):\n",
    "        return self.lin(xb)\n",
    "\n",
    "## Get the model and optim object that will be used to update model parameters\n",
    "def get_model():\n",
    "    model = SoundRecognition()\n",
    "    return model, optim.SGD(model.parameters(), lr = lr)"
   ]
  },
  {
   "cell_type": "code",
   "execution_count": 34,
   "metadata": {},
   "outputs": [
    {
     "name": "stdout",
     "output_type": "stream",
     "text": [
      "Loss:  tensor(0., grad_fn=<NllLossBackward>)\n",
      "Train finished\n"
     ]
    }
   ],
   "source": [
    "model, opt = get_model()\n",
    "\n",
    "def fit():\n",
    "    for epoch in range(epochs):\n",
    "        for i in range((n - 1) // bs + 1):\n",
    "            start_i = i * bs\n",
    "            end_i = start_i + bs\n",
    "            xb = x_train[start_i:end_i]\n",
    "            yb = y_train[start_i:end_i]\n",
    "            pred = model(xb)\n",
    "            loss = loss_func(pred, yb)\n",
    "\n",
    "            loss.backward()\n",
    "            opt.step()\n",
    "            opt.zero_grad()\n",
    "    \n",
    "    print('Loss: ', loss_func(model(xb), yb))\n",
    "    print('Train finished')\n",
    "\n",
    "fit()\n"
   ]
  }
 ],
 "metadata": {
  "kernelspec": {
   "display_name": "Python 3",
   "language": "python",
   "name": "python3"
  },
  "language_info": {
   "codemirror_mode": {
    "name": "ipython",
    "version": 3
   },
   "file_extension": ".py",
   "mimetype": "text/x-python",
   "name": "python",
   "nbconvert_exporter": "python",
   "pygments_lexer": "ipython3",
   "version": "3.7.3"
  }
 },
 "nbformat": 4,
 "nbformat_minor": 2
}
