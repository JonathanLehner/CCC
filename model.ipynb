{
 "cells": [
  {
   "cell_type": "markdown",
   "metadata": {},
   "source": [
    "Create a model using built-in library from Pytorch.\n",
    "This code closelt follows nn_tutorial notebook."
   ]
  },
  {
   "cell_type": "code",
   "execution_count": 1,
   "metadata": {},
   "outputs": [],
   "source": [
    "import csv, torch, math\n",
    "\n",
    "### read in target and attr input files\n",
    "train_target_file = 'train_target_in.csv'\n",
    "train_attr_file = 'train_attr_in.csv'\n",
    "valid_target_file = 'valid_target_in.csv'\n",
    "valid_attr_file = 'valid_attr_in.csv'\n",
    "\n",
    "def read_data(target_file, attr_file):\n",
    "    \n",
    "    with open(target_file, 'r') as f: \n",
    "        reader = csv.reader(f)\n",
    "        target_input_list = list(reader)\n",
    "\n",
    "    with open(attr_file, 'r') as f: \n",
    "        reader = csv.reader(f)\n",
    "        attr_input_list = list(reader)\n",
    "        \n",
    "    target_input = [''.join(sublist) for sublist in target_input_list]\n",
    "    attr_input = [[float(x) for x in t] for t in attr_input_list]\n",
    "    \n",
    "    coded_y = []\n",
    "    for i in target_input:\n",
    "        if i == 's': \n",
    "            coded_y.append(0)\n",
    "        elif i == 'x':\n",
    "            coded_y.append(1)\n",
    "        else:\n",
    "            coded_y.append(2)\n",
    "\n",
    "\n",
    "    ## convert arrays and lists into tensors for training\n",
    "    return map(torch.tensor, (attr_input, coded_y))\n",
    "\n",
    "x_train, y_train = read_data(train_target_file, train_attr_file)\n",
    "x_valid, y_valid = read_data(valid_target_file, valid_attr_file)"
   ]
  },
  {
   "cell_type": "markdown",
   "metadata": {},
   "source": [
    "x_train and y_train should be in the right shapes."
   ]
  },
  {
   "cell_type": "code",
   "execution_count": 7,
   "metadata": {},
   "outputs": [
    {
     "name": "stdout",
     "output_type": "stream",
     "text": [
      "torch.Size([1568, 3827]) torch.Size([1568])\n",
      "torch.Size([784, 3827]) torch.Size([784])\n"
     ]
    }
   ],
   "source": [
    "print(x_train.shape, y_train.shape)\n",
    "print(x_valid.shape, y_valid.shape)"
   ]
  },
  {
   "cell_type": "markdown",
   "metadata": {},
   "source": [
    "target_input_list is in list of lists. We want it to be a list of characters.\n",
    "attr_input is also a list of string lists. We want it to be a list of float lists."
   ]
  },
  {
   "cell_type": "code",
   "execution_count": 19,
   "metadata": {},
   "outputs": [],
   "source": [
    "def accuracy(out, yb):\n",
    "    preds = torch.argmax(out, dim = 1)\n",
    "    #print('---', preds, yb)\n",
    "    return (preds == yb).float().mean()\n"
   ]
  },
  {
   "cell_type": "markdown",
   "metadata": {},
   "source": [
    "Since there are three classes, we set D_out to 3. n is total number of instances and c is the number of attributes in each instance. We use a loss function from torch.nn.functional."
   ]
  },
  {
   "cell_type": "code",
   "execution_count": 33,
   "metadata": {},
   "outputs": [],
   "source": [
    "train_n, c = x_train.shape\n",
    "valid_n, c = x_valid.shape\n",
    "D_out = 3\n",
    "lr = 0.5\n",
    "epochs = 10\n",
    "train_bs = 5\n",
    "validate_bs = train_bs*2\n",
    "\n",
    "import torch.nn.functional as F\n",
    "\n",
    "loss_func = F.cross_entropy\n",
    "\n",
    "def model(xb):\n",
    "    return xb @ weights + bias"
   ]
  },
  {
   "cell_type": "markdown",
   "metadata": {},
   "source": [
    "[Code below does not work anymore. Ignore it.] Try a simple linear combination from model() and check if the shapes are as expected."
   ]
  },
  {
   "cell_type": "code",
   "execution_count": 12,
   "metadata": {},
   "outputs": [
    {
     "ename": "NameError",
     "evalue": "name 'weights' is not defined",
     "output_type": "error",
     "traceback": [
      "\u001b[0;31m---------------------------------------------------------------------------\u001b[0m",
      "\u001b[0;31mNameError\u001b[0m                                 Traceback (most recent call last)",
      "\u001b[0;32m<ipython-input-12-fe3d1062eeb6>\u001b[0m in \u001b[0;36m<module>\u001b[0;34m\u001b[0m\n\u001b[0;32m----> 1\u001b[0;31m \u001b[0mpreds\u001b[0m \u001b[0;34m=\u001b[0m \u001b[0mmodel\u001b[0m\u001b[0;34m(\u001b[0m\u001b[0mx_train\u001b[0m\u001b[0;34m)\u001b[0m\u001b[0;34m\u001b[0m\u001b[0;34m\u001b[0m\u001b[0m\n\u001b[0m\u001b[1;32m      2\u001b[0m \u001b[0mprint\u001b[0m\u001b[0;34m(\u001b[0m\u001b[0mx_train\u001b[0m\u001b[0;34m.\u001b[0m\u001b[0mshape\u001b[0m\u001b[0;34m,\u001b[0m \u001b[0mpreds\u001b[0m\u001b[0;34m.\u001b[0m\u001b[0mshape\u001b[0m\u001b[0;34m,\u001b[0m \u001b[0my_train\u001b[0m\u001b[0;34m.\u001b[0m\u001b[0mshape\u001b[0m\u001b[0;34m)\u001b[0m\u001b[0;34m\u001b[0m\u001b[0;34m\u001b[0m\u001b[0m\n",
      "\u001b[0;32m<ipython-input-11-6a56182b0539>\u001b[0m in \u001b[0;36mmodel\u001b[0;34m(xb)\u001b[0m\n\u001b[1;32m     11\u001b[0m \u001b[0;34m\u001b[0m\u001b[0m\n\u001b[1;32m     12\u001b[0m \u001b[0;32mdef\u001b[0m \u001b[0mmodel\u001b[0m\u001b[0;34m(\u001b[0m\u001b[0mxb\u001b[0m\u001b[0;34m)\u001b[0m\u001b[0;34m:\u001b[0m\u001b[0;34m\u001b[0m\u001b[0;34m\u001b[0m\u001b[0m\n\u001b[0;32m---> 13\u001b[0;31m     \u001b[0;32mreturn\u001b[0m \u001b[0mxb\u001b[0m \u001b[0;34m@\u001b[0m \u001b[0mweights\u001b[0m \u001b[0;34m+\u001b[0m \u001b[0mbias\u001b[0m\u001b[0;34m\u001b[0m\u001b[0;34m\u001b[0m\u001b[0m\n\u001b[0m",
      "\u001b[0;31mNameError\u001b[0m: name 'weights' is not defined"
     ]
    }
   ],
   "source": [
    "preds = model(x_train) \n",
    "print(x_train.shape, preds.shape, y_train.shape)"
   ]
  },
  {
   "cell_type": "markdown",
   "metadata": {},
   "source": [
    "Try running loss function on the inputs"
   ]
  },
  {
   "cell_type": "code",
   "execution_count": null,
   "metadata": {},
   "outputs": [],
   "source": [
    "loss_func(preds, y_train)"
   ]
  },
  {
   "cell_type": "code",
   "execution_count": 13,
   "metadata": {},
   "outputs": [],
   "source": [
    "from torch import nn\n",
    "from torch import optim\n",
    "\n",
    "class SoundRecognition(nn.Module):\n",
    "    def __init__(self):\n",
    "        super().__init__()\n",
    "        \n",
    "        ## This one line does the same thing as the two lines below \n",
    "        ## and [xb @ self.weights + self.bias]\n",
    "        self.lin = nn.Linear(c, D_out)\n",
    "#         self.weights = nn.Parameter(torch.randn(c, D_out) / math.sqrt(c))\n",
    "#         self.bias = nn.Parameter(torch.zeros(D_out))\n",
    "        \n",
    "    def forward(self, xb):\n",
    "        return self.lin(xb)\n",
    "\n",
    "## Get the model and optim object that will be used to update model parameters\n",
    "def get_model():\n",
    "    model = SoundRecognition()\n",
    "    return model, optim.SGD(model.parameters(), lr = lr)"
   ]
  },
  {
   "cell_type": "code",
   "execution_count": 34,
   "metadata": {},
   "outputs": [
    {
     "name": "stdout",
     "output_type": "stream",
     "text": [
      "Training\n",
      "Validating\n",
      "Epoch:  0  | Loss:  tensor(29637142.)\n",
      "Training\n",
      "Validating\n",
      "Epoch:  1  | Loss:  tensor(23212510.)\n",
      "Training\n",
      "Validating\n",
      "Epoch:  2  | Loss:  tensor(33642460.)\n",
      "Training\n",
      "Validating\n",
      "Epoch:  3  | Loss:  tensor(28960350.)\n",
      "Training\n",
      "Validating\n",
      "Epoch:  4  | Loss:  tensor(33693024.)\n",
      "Training\n",
      "Validating\n",
      "Epoch:  5  | Loss:  tensor(30181214.)\n",
      "Training\n",
      "Validating\n",
      "Epoch:  6  | Loss:  tensor(31183892.)\n",
      "Training\n",
      "Validating\n",
      "Epoch:  7  | Loss:  tensor(58646732.)\n",
      "Training\n",
      "Validating\n",
      "Epoch:  8  | Loss:  tensor(33577488.)\n",
      "Training\n",
      "Validating\n",
      "Epoch:  9  | Loss:  tensor(30286262.)\n"
     ]
    }
   ],
   "source": [
    "model, opt = get_model()\n",
    "\n",
    "def fit():\n",
    "    for epoch in range(epochs):\n",
    "        \n",
    "        print('Training')\n",
    "        model.train()\n",
    "        for i in range((train_n - 1) // train_bs + 1):\n",
    "            \n",
    "            start_i = i * train_bs\n",
    "            end_i = start_i + train_bs\n",
    "            xb = x_train[start_i:end_i]\n",
    "            yb = y_train[start_i:end_i]\n",
    "            pred = model(xb)\n",
    "            loss = loss_func(pred, yb)\n",
    "\n",
    "            loss.backward()\n",
    "            opt.step()\n",
    "            opt.zero_grad()\n",
    "        \n",
    "            #print('Acc: ', accuracy(pred, yb))\n",
    "        \n",
    "        ####validate at each epoch\n",
    "        print('Validating')\n",
    "        model.eval()\n",
    "        loss = []\n",
    "        with torch.no_grad():\n",
    "            for i in range((valid_n - 1) // validate_bs + 1):\n",
    "                start_i = i * validate_bs\n",
    "                end_i = start_i + validate_bs\n",
    "                xb = x_valid[start_i:end_i]\n",
    "                yb = y_valid[start_i:end_i]\n",
    "                pred = model(xb)\n",
    "                #print('----', yb)\n",
    "                loss.append(loss_func(pred, yb))\n",
    "        \n",
    "        #print(loss)\n",
    "        valid_loss = sum(loss)\n",
    "        \n",
    "    \n",
    "        print('Epoch: ', epoch, ' | Loss: ', valid_loss)\n",
    "    \n",
    "\n",
    "fit()\n"
   ]
  },
  {
   "cell_type": "code",
   "execution_count": null,
   "metadata": {},
   "outputs": [],
   "source": []
  }
 ],
 "metadata": {
  "kernelspec": {
   "display_name": "Python 3",
   "language": "python",
   "name": "python3"
  },
  "language_info": {
   "codemirror_mode": {
    "name": "ipython",
    "version": 3
   },
   "file_extension": ".py",
   "mimetype": "text/x-python",
   "name": "python",
   "nbconvert_exporter": "python",
   "pygments_lexer": "ipython3",
   "version": "3.7.3"
  }
 },
 "nbformat": 4,
 "nbformat_minor": 2
}
