{
 "cells": [
  {
   "cell_type": "markdown",
   "metadata": {},
   "source": [
    "Use pyaudio to record sound from users"
   ]
  },
  {
   "cell_type": "code",
   "execution_count": 2,
   "metadata": {},
   "outputs": [],
   "source": [
    "import sounddevice as sd\n",
    "from scipy.io.wavfile import write\n",
    "import time, librosa, pickle\n",
    "import numpy as np\n"
   ]
  },
  {
   "cell_type": "code",
   "execution_count": 3,
   "metadata": {},
   "outputs": [
    {
     "name": "stdout",
     "output_type": "stream",
     "text": [
      "Record will start in\n",
      "3\n",
      "2\n",
      "1\n",
      "Recording...\n",
      "Record saved at temp_sound_record.mp3 \n",
      "Voice being processed... temp_sound_record.mp3\n"
     ]
    }
   ],
   "source": [
    "fs = 44100  # Sample rate\n",
    "seconds = 1.25  # Duration of recording\n",
    "record_name = 'temp_sound_record.mp3'\n",
    "\n",
    "print('Record will start in\\n3')\n",
    "time.sleep(1)\n",
    "print('2')\n",
    "time.sleep(1)\n",
    "print('1')\n",
    "time.sleep(1)\n",
    "print('Recording...')\n",
    "\n",
    "myrecording = sd.rec(int(seconds * fs), samplerate=fs, channels=1)\n",
    "sd.wait()  # Wait until recording is finished\n",
    "write(record_name, fs, myrecording)  # Save as WAV file \n",
    "\n",
    "print('Record saved at', record_name, '\\nVoice being processed...', record_name)\n",
    "\n",
    "y, sr = librosa.load(record_name)"
   ]
  },
  {
   "cell_type": "code",
   "execution_count": 6,
   "metadata": {},
   "outputs": [],
   "source": [
    "def padVoice(y, max_col):\n",
    "    return np.pad(y, [(0,0), (0, max_col - y.shape[1])], mode = 'constant')"
   ]
  },
  {
   "cell_type": "code",
   "execution_count": 4,
   "metadata": {},
   "outputs": [
    {
     "data": {
      "text/plain": [
       "(13, 216)"
      ]
     },
     "execution_count": 4,
     "metadata": {},
     "output_type": "execute_result"
    }
   ],
   "source": [
    "z = librosa.feature.mfcc(y=y, sr=sr, hop_length=128, n_mfcc=13)\n",
    "z.shape"
   ]
  },
  {
   "cell_type": "code",
   "execution_count": 8,
   "metadata": {},
   "outputs": [
    {
     "data": {
      "text/plain": [
       "(13, 239)"
      ]
     },
     "execution_count": 8,
     "metadata": {},
     "output_type": "execute_result"
    }
   ],
   "source": [
    "ps = padVoice(z, 239)\n",
    "ps.shape"
   ]
  },
  {
   "cell_type": "code",
   "execution_count": 9,
   "metadata": {},
   "outputs": [],
   "source": [
    "record = open(r'temp_record.pkl', 'wb')\n",
    "pickle.dump(ps, record)\n",
    "record.close()"
   ]
  },
  {
   "cell_type": "code",
   "execution_count": null,
   "metadata": {},
   "outputs": [],
   "source": [
    "####process record is ready for the model. saved as temp_record.pkl"
   ]
  }
 ],
 "metadata": {
  "kernelspec": {
   "display_name": "Python 3",
   "language": "python",
   "name": "python3"
  },
  "language_info": {
   "codemirror_mode": {
    "name": "ipython",
    "version": 3
   },
   "file_extension": ".py",
   "mimetype": "text/x-python",
   "name": "python",
   "nbconvert_exporter": "python",
   "pygments_lexer": "ipython3",
   "version": "3.7.3"
  }
 },
 "nbformat": 4,
 "nbformat_minor": 2
}
