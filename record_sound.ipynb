{
 "cells": [
  {
   "cell_type": "markdown",
   "metadata": {},
   "source": [
    "Use pyaudio to record sound from users"
   ]
  },
  {
   "cell_type": "code",
   "execution_count": 47,
   "metadata": {},
   "outputs": [
    {
     "name": "stdout",
     "output_type": "stream",
     "text": [
      "Record will start in\n",
      "3\n",
      "2\n",
      "1\n",
      "Recording...\n",
      "Record saved at  sound_record.mp3 Voice being processed... sound_record.mp3\n"
     ]
    }
   ],
   "source": [
    "import sounddevice as sd\n",
    "from scipy.io.wavfile import write\n",
    "import time\n",
    "\n",
    "fs = 44100  # Sample rate\n",
    "seconds = 1.5  # Duration of recording\n",
    "record_name = 'sound_record.mp3'\n",
    "\n",
    "print('Record will start in\\n3')\n",
    "time.sleep(1)\n",
    "print('2')\n",
    "time.sleep(1)\n",
    "print('1')\n",
    "time.sleep(1)\n",
    "print('Recording...')\n",
    "\n",
    "myrecording = sd.rec(int(seconds * fs), samplerate=fs, channels=1)\n",
    "sd.wait()  # Wait until recording is finished\n",
    "write(record_name, fs, myrecording)  # Save as WAV file \n",
    "\n",
    "print('Record saved at', record_name, '\\nVoice being processed...', record_name)\n",
    "\n"
   ]
  },
  {
   "cell_type": "code",
   "execution_count": null,
   "metadata": {},
   "outputs": [],
   "source": []
  }
 ],
 "metadata": {
  "kernelspec": {
   "display_name": "Python 3",
   "language": "python",
   "name": "python3"
  },
  "language_info": {
   "codemirror_mode": {
    "name": "ipython",
    "version": 3
   },
   "file_extension": ".py",
   "mimetype": "text/x-python",
   "name": "python",
   "nbconvert_exporter": "python",
   "pygments_lexer": "ipython3",
   "version": "3.7.3"
  }
 },
 "nbformat": 4,
 "nbformat_minor": 2
}
