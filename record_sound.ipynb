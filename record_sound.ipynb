{
 "cells": [
  {
   "cell_type": "markdown",
   "metadata": {},
   "source": [
    "Use pyaudio to record sound from users"
   ]
  },
  {
   "cell_type": "code",
   "execution_count": 23,
   "metadata": {},
   "outputs": [
    {
     "name": "stdout",
     "output_type": "stream",
     "text": [
      "2\n",
      "{'index': 0, 'structVersion': 2, 'name': 'MacBook Air Microphone', 'hostApi': 0, 'maxInputChannels': 1, 'maxOutputChannels': 0, 'defaultLowInputLatency': 0.04852607709750567, 'defaultLowOutputLatency': 0.01, 'defaultHighInputLatency': 0.05868480725623583, 'defaultHighOutputLatency': 0.1, 'defaultSampleRate': 44100.0}\n",
      "=======\n",
      " {'index': 1, 'structVersion': 2, 'name': 'MacBook Air Speakers', 'hostApi': 0, 'maxInputChannels': 0, 'maxOutputChannels': 2, 'defaultLowInputLatency': 0.01, 'defaultLowOutputLatency': 0.022108843537414966, 'defaultHighInputLatency': 0.1, 'defaultHighOutputLatency': 0.03226757369614512, 'defaultSampleRate': 44100.0}\n",
      "recording...\n",
      "finished recording\n"
     ]
    },
    {
     "ename": "AttributeError",
     "evalue": "'Stream' object has no attribute 'stop_steam'",
     "output_type": "error",
     "traceback": [
      "\u001b[0;31m---------------------------------------------------------------------------\u001b[0m",
      "\u001b[0;31mAttributeError\u001b[0m                            Traceback (most recent call last)",
      "\u001b[0;32m<ipython-input-23-00c56d21307b>\u001b[0m in \u001b[0;36m<module>\u001b[0;34m\u001b[0m\n\u001b[1;32m     29\u001b[0m \u001b[0;34m\u001b[0m\u001b[0m\n\u001b[1;32m     30\u001b[0m \u001b[0mprint\u001b[0m\u001b[0;34m(\u001b[0m\u001b[0;34m'finished recording'\u001b[0m\u001b[0;34m)\u001b[0m\u001b[0;34m\u001b[0m\u001b[0;34m\u001b[0m\u001b[0m\n\u001b[0;32m---> 31\u001b[0;31m \u001b[0mstream\u001b[0m\u001b[0;34m.\u001b[0m\u001b[0mstop_steam\u001b[0m\u001b[0;34m(\u001b[0m\u001b[0;34m)\u001b[0m\u001b[0;34m\u001b[0m\u001b[0;34m\u001b[0m\u001b[0m\n\u001b[0m\u001b[1;32m     32\u001b[0m \u001b[0mstream\u001b[0m\u001b[0;34m.\u001b[0m\u001b[0mclose\u001b[0m\u001b[0;34m(\u001b[0m\u001b[0;34m)\u001b[0m\u001b[0;34m\u001b[0m\u001b[0;34m\u001b[0m\u001b[0m\n\u001b[1;32m     33\u001b[0m \u001b[0mp\u001b[0m\u001b[0;34m.\u001b[0m\u001b[0mterminate\u001b[0m\u001b[0;34m(\u001b[0m\u001b[0;34m)\u001b[0m\u001b[0;34m\u001b[0m\u001b[0;34m\u001b[0m\u001b[0m\n",
      "\u001b[0;31mAttributeError\u001b[0m: 'Stream' object has no attribute 'stop_steam'"
     ]
    }
   ],
   "source": [
    "import pyaudio\n",
    "import wave\n",
    "\n",
    "chunk = 1024 ## The number of sample per chunk\n",
    "sample_format = pyaudio.paInt16 ## 16 bits per sample\n",
    "channels = 1 ##check channel using get_device_info_by_index()\n",
    "fs = 44100  ## number of sample per second\n",
    "seconds = 3\n",
    "filename = '__testoutput.wav'\n",
    "\n",
    "p = pyaudio.PyAudio()\n",
    "d1 = p.get_device_info_by_index(0)\n",
    "d2 = p.get_device_info_by_index(1)\n",
    "\n",
    "print(p.get_device_count())\n",
    "print(d1)\n",
    "print('=======\\n', d2)\n",
    "\n",
    "print('recording...')\n",
    "stream = p.open(format = sample_format, \n",
    "                channels = channels, \n",
    "                rate = fs, \n",
    "                frames_per_buffer = chunk, \n",
    "                input = True)\n",
    "\n",
    "frames = []\n",
    "for i in range(0, int(fs / chunk + seconds)):\n",
    "    frames.append(stream.read(chunk))\n",
    "\n",
    "print('finished recording')\n",
    "stream.stop_steam()\n",
    "stream.close()\n",
    "p.terminate()\n",
    "\n",
    "file = wave.open(filename, 'wb')\n",
    "file.setnchannels(channels)\n",
    "file.setsampwidth(p.get_sample_size(sample_format))\n",
    "file.setframerate(fs)\n",
    "file.writeframes(b''.join(frames))\n",
    "file.close()"
   ]
  },
  {
   "cell_type": "code",
   "execution_count": null,
   "metadata": {},
   "outputs": [],
   "source": []
  },
  {
   "cell_type": "code",
   "execution_count": null,
   "metadata": {},
   "outputs": [],
   "source": []
  }
 ],
 "metadata": {
  "kernelspec": {
   "display_name": "Python 3",
   "language": "python",
   "name": "python3"
  },
  "language_info": {
   "codemirror_mode": {
    "name": "ipython",
    "version": 3
   },
   "file_extension": ".py",
   "mimetype": "text/x-python",
   "name": "python",
   "nbconvert_exporter": "python",
   "pygments_lexer": "ipython3",
   "version": "3.7.3"
  }
 },
 "nbformat": 4,
 "nbformat_minor": 2
}
