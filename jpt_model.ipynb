{
 "cells": [
  {
   "cell_type": "code",
   "execution_count": 11,
   "metadata": {},
   "outputs": [],
   "source": [
    "from __future__ import print_function\n",
    "import torch, csv \n",
    "\n",
    "### Sample code from pytorch tutorial\n",
    "###\n",
    "###\n",
    "\n",
    "### read in target and attr input files\n",
    "target_file = 'target_in.csv'\n",
    "attr_file = 'attr_in.csv'\n",
    "\n",
    "with open(target_file, 'r') as f: \n",
    "    reader = csv.reader(f)\n",
    "    target_input_list = list(reader)\n",
    "    \n",
    "with open(attr_file, 'r') as f: \n",
    "    reader = csv.reader(f)\n",
    "    attr_input_list = list(reader)\n",
    "\n",
    "## unnest list of target input\n",
    "target_input = [t for sublist in target_input_list for t in sublist]\n",
    "\n",
    "## convert str attr to float attr\n",
    "attr_input = [[float(x) for x in t] for t in attr_input_list]\n",
    "\n"
   ]
  },
  {
   "cell_type": "code",
   "execution_count": 14,
   "metadata": {},
   "outputs": [],
   "source": [
    "#dtype = torch.float\n",
    "#device = torch.device(\"cpu\")\n",
    "\n",
    "# N = number of instances per 1 feed\n",
    "# D_in = number of attributes\n",
    "# D_out = number of output attributes e.g. num of classes\n",
    "N, D_in, H, D_out = 2, 2675, 100, 4\n"
   ]
  },
  {
   "cell_type": "code",
   "execution_count": null,
   "metadata": {},
   "outputs": [],
   "source": [
    "    \n",
    "##random tensors\n",
    "#x = torch.randn(N, D_in) #, device = device) #, dtype = dtype, requires_grad = True)\n",
    "#y = torch.randn(N, D_out) #, device = device) #, dtype = dtype, requires_grad = True)\n",
    "\n",
    "model = torch.nn.Sequential(\n",
    "    torch.nn.Linear(D_in, H),\n",
    "    torch.nn.ReLU(),\n",
    "    torch.nn.Linear(H, D_out),\n",
    "    )\n",
    "\n",
    "loss_fn = torch.nn.MSELoss(reduction='sum')"
   ]
  }
 ],
 "metadata": {
  "kernelspec": {
   "display_name": "Python 3",
   "language": "python",
   "name": "python3"
  },
  "language_info": {
   "codemirror_mode": {
    "name": "ipython",
    "version": 3
   },
   "file_extension": ".py",
   "mimetype": "text/x-python",
   "name": "python",
   "nbconvert_exporter": "python",
   "pygments_lexer": "ipython3",
   "version": "3.7.3"
  }
 },
 "nbformat": 4,
 "nbformat_minor": 2
}
