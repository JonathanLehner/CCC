{
 "cells": [
  {
   "cell_type": "code",
   "execution_count": 1,
   "metadata": {},
   "outputs": [],
   "source": [
    "%matplotlib inline"
   ]
  },
  {
   "cell_type": "code",
   "execution_count": 7,
   "metadata": {},
   "outputs": [
    {
     "name": "stdout",
     "output_type": "stream",
     "text": [
      "==========\n",
      "Su\n",
      "==========\n"
     ]
    },
    {
     "data": {
      "image/png": "[encoded data removed]",
      "text/plain": [
       "<Figure size 432x288 with 1 Axes>"
      ]
     },
     "metadata": {},
     "output_type": "display_data"
    },
    {
     "name": "stdout",
     "output_type": "stream",
     "text": [
      "==========\n",
      "Xu\n",
      "==========\n"
     ]
    },
    {
     "data": {
      "image/png": "[encoded data removed]",
      "text/plain": [
       "<Figure size 432x288 with 1 Axes>"
      ]
     },
     "metadata": {},
     "output_type": "display_data"
    }
   ],
   "source": [
    "# Beat tracking example\n",
    "from __future__ import print_function\n",
    "import librosa, librosa.display, os\n",
    "import matplotlib.pyplot as plt\n",
    "\n",
    "s_dir = 'sound_samples/analysis/s/'\n",
    "x_dir = 'sound_samples/analysis/x/'\n",
    "su_sound = os.listdir(s_dir)\n",
    "xu_sound = os.listdir(x_dir)\n",
    "\n",
    "hop_length = 512\n",
    "\n",
    "# 2. Load the audio as a waveform `y`\n",
    "#    Store the sampling rate as `sr`\n",
    "\n",
    "i=0\n",
    "print('==========\\nSu\\n==========')\n",
    "y, sr = librosa.load(s_dir+su_sound[i])\n",
    "\n",
    "# mfcc=librosa.feature.mfcc(y=y, sr=sr, hop_length=hop_length, n_mfcc = 13)\n",
    "# librosa.display.specshow(mfcc)\n",
    "\n",
    "y_harmonic, y_percussive = librosa.effects.hpss(y)\n",
    "chromagram = librosa.feature.chroma_cqt(y=y_harmonic, sr=sr)\n",
    "librosa.display.specshow(chromagram)\n",
    "plt.show()\n",
    "# for s in su_sound:\n",
    "#     n = s_dir+s\n",
    "#     y, sr = librosa.load(s_dir+s)\n",
    "\n",
    "\n",
    "#     # Compute MFCC features from the raw signal\n",
    "#     mfcc=librosa.feature.melspectrogram(y=y, sr=sr, hop_length=hop_length)\n",
    "\n",
    "#     librosa.display.specshow(mfcc)\n",
    "#     plt.show()\n",
    "    \n",
    "#     y_harmonic, y_percussive = librosa.effects.hpss(y)\n",
    "#     chromagram = librosa.feature.chroma_cqt(y=y_harmonic,\n",
    "#                                             sr=sr)\n",
    "#     librosa.display.specshow(chromagram)\n",
    "#     plt.show()\n",
    "    \n",
    "print('==========\\nXu\\n==========')\n",
    "y, sr = librosa.load(x_dir+xu_sound[i])\n",
    "# mfcc=librosa.feature.mfcc(y=y, sr=sr, hop_length=hop_length, n_mfcc = 13)\n",
    "# librosa.display.specshow(mfcc)\n",
    "\n",
    "y_harmonic, y_percussive = librosa.effects.hpss(y)\n",
    "\n",
    "chromagram = librosa.feature.chroma_cqt(y=y_harmonic,\n",
    "                                            sr=sr)\n",
    "librosa.display.specshow(chromagram)\n",
    "plt.show()\n",
    "\n",
    "plt.show()\n",
    "# for x in xu_sound:\n",
    "#     y, sr = librosa.load(x_dir+x)\n",
    "\n",
    "\n",
    "#     # Compute MFCC features from the raw signal\n",
    "#     mfcc=librosa.feature.mfcc(y=y, sr=sr, hop_length=hop_length, n_mfcc = 13)\n",
    "\n",
    "#     librosa.display.specshow(mfcc)\n",
    "#     plt.show()\n",
    "\n",
    "\n",
    "#     y_harmonic, y_percussive = librosa.effects.hpss(y)\n",
    "#     chromagram = librosa.feature.chroma_cqt(y=y_harmonic,\n",
    "#                                             sr=sr)\n",
    "#     librosa.display.specshow(chromagram)\n",
    "#     plt.show()"
   ]
  },
  {
   "cell_type": "code",
   "execution_count": null,
   "metadata": {},
   "outputs": [],
   "source": []
  }
 ],
 "metadata": {
  "kernelspec": {
   "display_name": "Python 3",
   "language": "python",
   "name": "python3"
  },
  "language_info": {
   "codemirror_mode": {
    "name": "ipython",
    "version": 3
   },
   "file_extension": ".py",
   "mimetype": "text/x-python",
   "name": "python",
   "nbconvert_exporter": "python",
   "pygments_lexer": "ipython3",
   "version": "3.7.3"
  }
 },
 "nbformat": 4,
 "nbformat_minor": 2
}
