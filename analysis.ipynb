{
 "cells": [
  {
   "cell_type": "markdown",
   "metadata": {},
   "source": [
    "Explore if the chromagram is a good audio feature to used in the consonant recognition. We do so by comparing the plots of chromagram features of 'su' and 'xu' sounds. The commented parts are an analysis for 'MFCC'"
   ]
  },
  {
   "cell_type": "code",
   "execution_count": null,
   "metadata": {},
   "outputs": [],
   "source": [
    "from __future__ import print_function\n",
    "import librosa, librosa.display, os\n",
    "import matplotlib.pyplot as plt\n",
    "\n",
    "%matplotlib inline"
   ]
  },
  {
   "cell_type": "code",
   "execution_count": null,
   "metadata": {},
   "outputs": [],
   "source": [
    "# Beat tracking example\n",
    "s_dir = 'data/sound_samples/s/'#'sound_samples/analysis/s/'\n",
    "x_dir = 'data/sound_samples/x/'\n",
    "su_sound = os.listdir(s_dir)\n",
    "xu_sound = os.listdir(x_dir)\n",
    "\n",
    "hop_length = 512 ##default"
   ]
  },
  {
   "cell_type": "code",
   "execution_count": null,
   "metadata": {},
   "outputs": [],
   "source": [
    "i=0\n",
    "print('==========\\nSu\\n==========')\n",
    "y, sr = librosa.load(s_dir+su_sound[i])\n",
    "\n",
    "# mfcc=librosa.feature.mfcc(y=y, sr=sr, hop_length=hop_length, n_mfcc = 13)\n",
    "# librosa.display.specshow(mfcc)\n",
    "\n",
    "y_harmonic, y_percussive = librosa.effects.hpss(y)\n",
    "chromagram = librosa.feature.chroma_cqt(y=y_harmonic, sr=sr)\n",
    "librosa.display.specshow(chromagram)\n",
    "plt.show()\n",
    "\n",
    "print('==========\\nXu\\n==========')\n",
    "y, sr = librosa.load(x_dir+xu_sound[i])\n",
    "# mfcc=librosa.feature.mfcc(y=y, sr=sr, hop_length=hop_length, n_mfcc = 13)\n",
    "# librosa.display.specshow(mfcc)\n",
    "\n",
    "y_harmonic, y_percussive = librosa.effects.hpss(y)\n",
    "\n",
    "chromagram = librosa.feature.chroma_cqt(y=y_harmonic,\n",
    "                                            sr=sr)\n",
    "librosa.display.specshow(chromagram)\n",
    "plt.show()\n",
    "\n",
    "plt.show()"
   ]
  }
 ],
 "metadata": {
  "kernelspec": {
   "display_name": "Python 3",
   "language": "python",
   "name": "python3"
  },
  "language_info": {
   "codemirror_mode": {
    "name": "ipython",
    "version": 3
   },
   "file_extension": ".py",
   "mimetype": "text/x-python",
   "name": "python",
   "nbconvert_exporter": "python",
   "pygments_lexer": "ipython3",
   "version": "3.7.3"
  }
 },
 "nbformat": 4,
 "nbformat_minor": 2
}
