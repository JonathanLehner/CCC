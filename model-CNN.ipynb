{
 "cells": [
  {
   "cell_type": "markdown",
   "metadata": {},
   "source": [
    "Create a model using built-in library from Pytorch.\n",
    "This code closelt follows nn_tutorial notebook."
   ]
  },
  {
   "cell_type": "code",
   "execution_count": 1,
   "metadata": {},
   "outputs": [],
   "source": [
    "import csv, torch, math\n",
    "\n",
    "### read in target and attr input files\n",
    "train_target_file = 'train_target_in.csv'\n",
    "train_attr_file = 'train_attr_in.csv'\n",
    "valid_target_file = 'valid_target_in.csv'\n",
    "valid_attr_file = 'valid_attr_in.csv'\n",
    "\n",
    "def read_data(target_file, attr_file):\n",
    "    \n",
    "    with open(target_file, 'r') as f: \n",
    "        reader = csv.reader(f)\n",
    "        target_input_list = list(reader)\n",
    "\n",
    "    with open(attr_file, 'r') as f: \n",
    "        reader = csv.reader(f)\n",
    "        attr_input_list = list(reader)\n",
    "        \n",
    "    target_input = [''.join(sublist) for sublist in target_input_list]\n",
    "    attr_input = [[float(x) for x in t] for t in attr_input_list]\n",
    "    \n",
    "    coded_y = []\n",
    "    for i in target_input:\n",
    "        if i == 's': \n",
    "            coded_y.append(0)\n",
    "        elif i == 'x':\n",
    "            coded_y.append(1)\n",
    "        else:\n",
    "            coded_y.append(2)\n",
    "\n",
    "\n",
    "    ## convert arrays and lists into tensors for training\n",
    "    return map(torch.tensor, (attr_input, coded_y))\n",
    "\n",
    "x_train, y_train = read_data(train_target_file, train_attr_file)\n",
    "x_valid, y_valid = read_data(valid_target_file, valid_attr_file)\n"
   ]
  },
  {
   "cell_type": "markdown",
   "metadata": {},
   "source": [
    "x_train and y_train should be in the right shapes."
   ]
  },
  {
   "cell_type": "code",
   "execution_count": 2,
   "metadata": {},
   "outputs": [
    {
     "name": "stdout",
     "output_type": "stream",
     "text": [
      "torch.Size([1568, 3827]) torch.Size([1568])\n",
      "torch.Size([784, 3827]) torch.Size([784])\n"
     ]
    }
   ],
   "source": [
    "print(x_train.shape, y_train.shape)\n",
    "print(x_valid.shape, y_valid.shape)"
   ]
  },
  {
   "cell_type": "markdown",
   "metadata": {},
   "source": [
    "target_input_list is in list of lists. We want it to be a list of characters.\n",
    "attr_input is also a list of string lists. We want it to be a list of float lists."
   ]
  },
  {
   "cell_type": "code",
   "execution_count": 3,
   "metadata": {},
   "outputs": [],
   "source": [
    "def accuracy(out, yb):\n",
    "    preds = torch.argmax(out, dim = 1)\n",
    "    #print('---', preds, yb)\n",
    "    return (preds == yb).float().mean()\n"
   ]
  },
  {
   "cell_type": "markdown",
   "metadata": {},
   "source": [
    "Since there are three classes, we set D_out to 3. n is total number of instances and c is the number of attributes in each instance. We use a loss function from torch.nn.functional."
   ]
  },
  {
   "cell_type": "code",
   "execution_count": 4,
   "metadata": {},
   "outputs": [],
   "source": [
    "train_n, c = x_train.shape\n",
    "valid_n, c = x_valid.shape\n",
    "D_out = 3\n",
    "lr = 0.5\n",
    "epochs = 10\n",
    "train_bs = 5\n",
    "validate_bs = train_bs*2\n",
    "\n",
    "import torch.nn.functional as F\n",
    "\n",
    "loss_func = F.cross_entropy\n"
   ]
  },
  {
   "cell_type": "code",
   "execution_count": 6,
   "metadata": {},
   "outputs": [],
   "source": [
    "from torch import nn\n",
    "from torch import optim\n",
    "\n",
    "class SoundRecognition(nn.Module):\n",
    "    def __init__(self):\n",
    "        super().__init__()\n",
    "        \n",
    "        ## This one line does the same thing as the two lines below \n",
    "        ## and [xb @ self.weights + self.bias]\n",
    "        self.lin = nn.Linear(c, D_out)\n",
    "#         self.weights = nn.Parameter(torch.randn(c, D_out) / math.sqrt(c))\n",
    "#         self.bias = nn.Parameter(torch.zeros(D_out))\n",
    "        \n",
    "    def forward(self, xb):\n",
    "        return self.lin(xb)\n",
    "    \n",
    "class SoundRecognition_CNN(nn.Module):\n",
    "    def __init__(self):\n",
    "        super().__init__()\n",
    "        self.conv1 = nn.Conv2d(1, 16, kernel_size=3, stride=2)\n",
    "        self.conv2 = nn.Conv2d(16, 16, kernel_size=3, stride=2)\n",
    "        self.conv3 = nn.Conv2d(16, 3, kernel_size=3, stride=2)\n",
    "\n",
    "    def forward(self, xb):\n",
    "        xb = xb.view(-1, 1, 28, 28)\n",
    "        xb = F.relu(self.conv1(xb))\n",
    "        xb = F.relu(self.conv2(xb))\n",
    "        xb = F.relu(self.conv3(xb))\n",
    "        xb = F.avg_pool2d(xb, 4)\n",
    "        return xb.view(-1, xb.size(1))\n",
    "\n",
    "## Get the model and optim object that will be used to update model parameters\n",
    "def get_model():\n",
    "    model = SoundRecognition()\n",
    "    return model, optim.SGD(model.parameters(), lr = lr)"
   ]
  },
  {
   "cell_type": "code",
   "execution_count": 12,
   "metadata": {},
   "outputs": [
    {
     "name": "stdout",
     "output_type": "stream",
     "text": [
      "Training\n",
      "Validating\n",
      "Epoch:  0  | Loss:  tensor(79198592.)  | Accuracy:  tensor(0.1369)\n",
      "Training\n",
      "Validating\n",
      "Epoch:  1  | Loss:  tensor(86558168.)  | Accuracy:  tensor(0.1534)\n",
      "Training\n",
      "Validating\n",
      "Epoch:  2  | Loss:  tensor(85399288.)  | Accuracy:  tensor(0.1501)\n",
      "Training\n",
      "Validating\n",
      "Epoch:  3  | Loss:  tensor(64007316.)  | Accuracy:  tensor(0.1526)\n",
      "Training\n",
      "Validating\n",
      "Epoch:  4  | Loss:  tensor(81025896.)  | Accuracy:  tensor(0.1403)\n",
      "Training\n",
      "Validating\n",
      "Epoch:  5  | Loss:  tensor(44156648.)  | Accuracy:  tensor(0.1569)\n",
      "Training\n",
      "Validating\n",
      "Epoch:  6  | Loss:  tensor(64956764.)  | Accuracy:  tensor(0.1564)\n",
      "Training\n",
      "Validating\n",
      "Epoch:  7  | Loss:  tensor(60913756.)  | Accuracy:  tensor(0.1443)\n",
      "Training\n",
      "Validating\n",
      "Epoch:  8  | Loss:  tensor(59048036.)  | Accuracy:  tensor(0.1505)\n",
      "Training\n",
      "Validating\n",
      "Epoch:  9  | Loss:  tensor(59307216.)  | Accuracy:  tensor(0.1559)\n"
     ]
    }
   ],
   "source": [
    "model, opt = get_model()\n",
    "\n",
    "def fit():\n",
    "    for epoch in range(epochs):\n",
    "        \n",
    "        print('Training')\n",
    "        model.train()\n",
    "        for i in range((train_n - 1) // train_bs + 1):\n",
    "            \n",
    "            start_i = i * train_bs\n",
    "            end_i = start_i + train_bs\n",
    "            xb = x_train[start_i:end_i]\n",
    "            yb = y_train[start_i:end_i]\n",
    "            pred = model(xb)\n",
    "            loss = loss_func(pred, yb)\n",
    "\n",
    "            loss.backward()\n",
    "            opt.step()\n",
    "            opt.zero_grad()\n",
    "        \n",
    "            #print('Acc: ', accuracy(pred, yb))\n",
    "        \n",
    "        ####validate at each epoch\n",
    "        print('Validating')\n",
    "        model.eval()\n",
    "        loss = []\n",
    "        acc = []\n",
    "        with torch.no_grad():\n",
    "#             for i in range((valid_n - 1) // validate_bs + 1):\n",
    "#                 start_i = i * validate_bs\n",
    "#                 end_i = start_i + validate_bs\n",
    "#                 xb = x_valid[start_i:end_i]\n",
    "#                 yb = y_valid[start_i:end_i]\n",
    "#                 pred = model(xb)\n",
    "#                 #print('----', yb)\n",
    "#                 loss.append(loss_func(pred, yb))\n",
    "#                 acc.append(accuracy(pred, yb))\n",
    "\n",
    "            for i in range((train_n - 1) // train_bs + 1):\n",
    "\n",
    "                start_i = i * train_bs\n",
    "                end_i = start_i + train_bs\n",
    "                xb = x_train[start_i:end_i]\n",
    "                yb = y_train[start_i:end_i]\n",
    "                pred = model(xb)\n",
    "                loss.append(loss_func(pred, yb))\n",
    "                acc.append(accuracy(pred, yb))\n",
    "        \n",
    "        #print(loss)\n",
    "        valid_loss = sum(loss)\n",
    "        valid_acc = sum(acc)\n",
    "        \n",
    "    \n",
    "        print('Epoch: ', epoch, ' | Loss: ', valid_loss, ' | Accuracy: ', valid_acc/len(y_train))\n",
    "    \n",
    "\n",
    "fit()\n"
   ]
  },
  {
   "cell_type": "code",
   "execution_count": null,
   "metadata": {},
   "outputs": [],
   "source": []
  }
 ],
 "metadata": {
  "kernelspec": {
   "display_name": "Python 3",
   "language": "python",
   "name": "python3"
  },
  "language_info": {
   "codemirror_mode": {
    "name": "ipython",
    "version": 3
   },
   "file_extension": ".py",
   "mimetype": "text/x-python",
   "name": "python",
   "nbconvert_exporter": "python",
   "pygments_lexer": "ipython3",
   "version": "3.7.3"
  }
 },
 "nbformat": 4,
 "nbformat_minor": 2
}
