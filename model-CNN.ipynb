{
 "cells": [
  {
   "cell_type": "markdown",
   "metadata": {},
   "source": [
    "Create a model using built-in library from Pytorch.\n",
    "This code closely follows nn_tutorial notebook."
   ]
  },
  {
   "cell_type": "code",
   "execution_count": 1,
   "metadata": {},
   "outputs": [],
   "source": [
    "import csv, torch, math, os, pickle\n",
    "from torch import nn\n",
    "from torch import optim\n",
    "import torch.nn.functional as F\n",
    "\n",
    "global chroma_shape, epochs, train_bs, validate_bs, lr, n_class"
   ]
  },
  {
   "cell_type": "code",
   "execution_count": 2,
   "metadata": {},
   "outputs": [],
   "source": [
    "## read attr and tar in .pkl files\n",
    "## Return: (1) a list of padded attr arrays\n",
    "##         (2) a list of paddrd tar arrays\n",
    "def read_data():\n",
    "    att_file = open(r'temp_chroma_attr.pkl', 'rb')\n",
    "    x_train = pickle.load(att_file)\n",
    "    \n",
    "    att_file.close()\n",
    "    \n",
    "    tar_file = open(r'temp_chroma_tar.pkl', 'rb')\n",
    "    str_y_train = pickle.load(tar_file)\n",
    "    \n",
    "    tar_file.close()\n",
    "    \n",
    "    y_train = torch.tensor([0 if s == 's' else (1 if s == 'x' else 2) for s in str_y_train])\n",
    "    \n",
    "    #print([(x,s) for x, s in zip(str_y_train, y_train)])\n",
    "    \n",
    "    ## need .float so that it has the same type as weights in the model\n",
    "    return torch.tensor(x_train).float(), y_train\n",
    "\n",
    "x_train, y_train = read_data()\n"
   ]
  },
  {
   "cell_type": "code",
   "execution_count": 3,
   "metadata": {},
   "outputs": [
    {
     "name": "stdout",
     "output_type": "stream",
     "text": [
      "torch.Size([1568, 12, 60])\n",
      "<class 'torch.Tensor'>\n"
     ]
    }
   ],
   "source": [
    "print(x_train.shape)\n",
    "x_train[0:3, :, :].shape\n",
    "y = x_train.float()\n",
    "print(type(y[0]))"
   ]
  },
  {
   "cell_type": "code",
   "execution_count": 4,
   "metadata": {},
   "outputs": [],
   "source": [
    "def accuracy(out, yb):\n",
    "    #print('======acc====')\n",
    "    #print(out, ' | ', yb)\n",
    "    preds = torch.argmax(out, dim = 1)\n",
    "    return (preds == yb).float().mean()"
   ]
  },
  {
   "cell_type": "code",
   "execution_count": 11,
   "metadata": {},
   "outputs": [],
   "source": [
    "## Get the shape of a padded instance for model construction\n",
    "chroma_shape = x_train[0].shape\n",
    "\n",
    "lr = 0.05\n",
    "epochs = 100\n",
    "train_bs = 20\n",
    "validate_bs = train_bs*2\n",
    "train_n = len(x_train)\n",
    "n_class = 3\n",
    "\n",
    "loss_func = F.cross_entropy"
   ]
  },
  {
   "cell_type": "markdown",
   "metadata": {},
   "source": [
    "Since there are three classes, we set D_out to 3. n is total number of instances and c is the number of attributes in each instance. We use a loss function from torch.nn.functional."
   ]
  },
  {
   "cell_type": "code",
   "execution_count": 6,
   "metadata": {},
   "outputs": [],
   "source": [
    "class SoundRecognition_CNN(nn.Module):\n",
    "    def __init__(self):\n",
    "        super().__init__()\n",
    "        self.conv1 = nn.Conv2d(1, 16, kernel_size=3, stride=1, padding=0)\n",
    "        self.conv2 = nn.Conv2d(16, 16, kernel_size=3, stride=1, padding=0)\n",
    "        self.conv3 = nn.Conv2d(16, 16, kernel_size=3, stride=1, padding=0)\n",
    "        \n",
    "        self.pool = nn.MaxPool2d(kernel_size=2, stride=2, padding=0)\n",
    "        self.fc1 = torch.nn.Linear(16*3*27, n_class)\n",
    "\n",
    "    def forward(self, xb):\n",
    "        #print(type(xb), len(xb))\n",
    "        \n",
    "        ## input of size (bs, 1, 12, 60)\n",
    "        xb = xb.view(-1, 1, chroma_shape[0], chroma_shape[1])\n",
    "        #print('xb shape', xb.shape)\n",
    "        \n",
    "        ## (bs, 1, 12, 60) >> (bs, 16, 10, 58)\n",
    "        xb = F.relu(self.conv1(xb))\n",
    "        #print('---xb shape2', xb.shape)\n",
    "        \n",
    "        ## (bs, 16, 10, 58) >> (bs, 16, 8, 56)\n",
    "        xb = F.relu(self.conv2(xb))\n",
    "        #print('---xb shape3', xb.shape)\n",
    "        \n",
    "        ## (bs, 16, 8, 56) >> (bs, 16, 6, 54)\n",
    "        xb = F.relu(self.conv3(xb))\n",
    "        #print('---xb shape4', xb.shape)\n",
    "        \n",
    "        ## (bs, 16, 6, 54) >> (bs, 16, 3, 27)\n",
    "        xb = self.pool(xb)\n",
    "        #print('---xb shape5', xb.shape)\n",
    "        \n",
    "        ## reshape for fully connected\n",
    "        xb = xb.view(-1, 16*3*27)\n",
    "        \n",
    "        ## (bs, 16*3*27) >> (bs, 3)\n",
    "        xb = self.fc1(xb)\n",
    "        #print('---xb shape6', xb.shape)\n",
    "        #print('=====', xb.shape)\n",
    "        return xb.view(-1, xb.size(1))\n",
    "\n",
    "## Get the model and optim object that will be used to update model parameters\n",
    "def get_model():\n",
    "    model = SoundRecognition_CNN()\n",
    "    return model, optim.SGD(model.parameters(), lr = lr)"
   ]
  },
  {
   "cell_type": "code",
   "execution_count": 12,
   "metadata": {},
   "outputs": [
    {
     "name": "stdout",
     "output_type": "stream",
     "text": [
      "Epoch:  10  | Loss:  tensor(64.3285)  | Accuracy:  tensor(0.6937)\n",
      "Epoch:  20  | Loss:  tensor(56.3347)  | Accuracy:  tensor(0.7111)\n",
      "Epoch:  30  | Loss:  tensor(54.0619)  | Accuracy:  tensor(0.7079)\n",
      "Epoch:  40  | Loss:  tensor(61.2457)  | Accuracy:  tensor(0.6573)\n",
      "Epoch:  50  | Loss:  tensor(40.4599)  | Accuracy:  tensor(0.7981)\n",
      "Epoch:  60  | Loss:  tensor(35.1271)  | Accuracy:  tensor(0.8285)\n",
      "Epoch:  70  | Loss:  tensor(26.5453)  | Accuracy:  tensor(0.8772)\n",
      "Epoch:  80  | Loss:  tensor(52.0822)  | Accuracy:  tensor(0.8047)\n",
      "Epoch:  90  | Loss:  tensor(16.6633)  | Accuracy:  tensor(0.9272)\n",
      "Epoch:  100  | Loss:  tensor(13.4108)  | Accuracy:  tensor(0.9424)\n",
      "Train Finished\n"
     ]
    }
   ],
   "source": [
    "model, opt = get_model()\n",
    "\n",
    "def fit():\n",
    "    for epoch in range(epochs):\n",
    "        \n",
    "        #print('Training')\n",
    "        model.train()\n",
    "        for i in range((train_n - 1) // train_bs + 1):\n",
    "            \n",
    "            start_i = i * train_bs\n",
    "            end_i = start_i + train_bs\n",
    "            xb = x_train[start_i:end_i, :, :]\n",
    "            yb = y_train[start_i:end_i]\n",
    "            pred = model(xb)\n",
    "            #print('pred: ', pred, ' | yb: ', yb)\n",
    "            loss = loss_func(pred, yb)\n",
    "\n",
    "            loss.backward()\n",
    "            opt.step()\n",
    "            opt.zero_grad()\n",
    "        \n",
    "            #print('Acc: ', accuracy(pred, yb))\n",
    "        \n",
    "        ####validate at each epoch\n",
    "        #print('Validating')\n",
    "        model.eval()\n",
    "        loss = []\n",
    "        acc = []\n",
    "        with torch.no_grad():\n",
    "\n",
    "            for i in range((train_n - 1) // train_bs + 1):\n",
    "                start_i = i * train_bs\n",
    "                end_i = start_i + train_bs\n",
    "                xb = x_train[start_i:end_i, :, :]\n",
    "                yb = y_train[start_i:end_i]\n",
    "                pred = model(xb)\n",
    "                loss.append(loss_func(pred, yb))\n",
    "                acc.append(accuracy(pred, yb))\n",
    "        \n",
    "        #print(loss)\n",
    "        valid_loss = sum(loss)\n",
    "        \n",
    "        if (epoch + 1)% 10 == 0:\n",
    "            print('Epoch: ', epoch + 1, ' | Loss: ', valid_loss, ' | Accuracy: ', sum(acc)/len(acc))\n",
    "    print('Train Finished')\n",
    "\n",
    "fit()\n"
   ]
  },
  {
   "cell_type": "code",
   "execution_count": null,
   "metadata": {},
   "outputs": [],
   "source": []
  }
 ],
 "metadata": {
  "kernelspec": {
   "display_name": "Python 3",
   "language": "python",
   "name": "python3"
  },
  "language_info": {
   "codemirror_mode": {
    "name": "ipython",
    "version": 3
   },
   "file_extension": ".py",
   "mimetype": "text/x-python",
   "name": "python",
   "nbconvert_exporter": "python",
   "pygments_lexer": "ipython3",
   "version": "3.7.3"
  }
 },
 "nbformat": 4,
 "nbformat_minor": 2
}
