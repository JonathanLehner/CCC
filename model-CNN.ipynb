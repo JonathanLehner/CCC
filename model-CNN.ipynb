{
 "cells": [
  {
   "cell_type": "markdown",
   "metadata": {},
   "source": [
    "Create a model using built-in library from Pytorch.\n",
    "This code closelt follows nn_tutorial notebook."
   ]
  },
  {
   "cell_type": "code",
   "execution_count": 21,
   "metadata": {},
   "outputs": [],
   "source": [
    "import csv, torch, math, os, pickle\n",
    "from torch import nn\n",
    "from torch import optim\n",
    "import torch.nn.functional as F\n",
    "\n",
    "global chroma_shape, epochs, train_bs, validate_bs, lr"
   ]
  },
  {
   "cell_type": "code",
   "execution_count": 77,
   "metadata": {},
   "outputs": [],
   "source": [
    "## read attr and tar in .pkl files\n",
    "## Return: (1) a list of padded attr arrays\n",
    "##         (2) a list of paddrd tar arrays\n",
    "def read_data():\n",
    "    att_file = open(r'temp_chroma_attr.pkl', 'rb')\n",
    "    x_train = pickle.load(att_file)\n",
    "    \n",
    "    att_file.close()\n",
    "    \n",
    "    tar_file = open(r'temp_chroma_tar.pkl', 'rb')\n",
    "    str_y_train = pickle.load(tar_file)\n",
    "    \n",
    "    tar_file.close()\n",
    "    \n",
    "    y_train = torch.tensor([0 if s == 's' else (1 if s == 'x' else 2) for s in str_y_train])\n",
    "    \n",
    "    #print([(x,s) for x, s in zip(str_y_train, y_train)])\n",
    "    \n",
    "    ## need .float so that it has the same type as weights in the model\n",
    "    return torch.tensor(x_train).float(), y_train\n",
    "\n",
    "x_train, y_train = read_data()\n"
   ]
  },
  {
   "cell_type": "code",
   "execution_count": 75,
   "metadata": {},
   "outputs": [
    {
     "name": "stdout",
     "output_type": "stream",
     "text": [
      "torch.Size([784, 12, 60])\n",
      "<class 'torch.Tensor'>\n"
     ]
    }
   ],
   "source": [
    "print(x_train.shape)\n",
    "x_train[0:3, :, :].shape\n",
    "y = x_train.float()\n",
    "print(type(y[0]))"
   ]
  },
  {
   "cell_type": "code",
   "execution_count": 87,
   "metadata": {},
   "outputs": [],
   "source": [
    "def accuracy(out, yb):\n",
    "    preds = torch.argmax(out, dim = 1)\n",
    "    return (preds == yb).float().mean()"
   ]
  },
  {
   "cell_type": "code",
   "execution_count": 85,
   "metadata": {},
   "outputs": [],
   "source": [
    "## Get the shape of a padded instance for model construction\n",
    "chroma_shape = x_train[0].shape\n",
    "\n",
    "lr = 0.5\n",
    "epochs = 10\n",
    "train_bs = 5\n",
    "validate_bs = train_bs*2\n",
    "train_n = len(x_train)\n",
    "\n",
    "loss_func = F.cross_entropy"
   ]
  },
  {
   "cell_type": "markdown",
   "metadata": {},
   "source": [
    "Since there are three classes, we set D_out to 3. n is total number of instances and c is the number of attributes in each instance. We use a loss function from torch.nn.functional."
   ]
  },
  {
   "cell_type": "code",
   "execution_count": 89,
   "metadata": {},
   "outputs": [],
   "source": [
    "class SoundRecognition(nn.Module):\n",
    "    def __init__(self):\n",
    "        super().__init__()\n",
    "        \n",
    "        ## This one line does the same thing as the two lines below \n",
    "        ## and [xb @ self.weights + self.bias]\n",
    "        self.lin = nn.Linear(c, D_out)\n",
    "#         self.weights = nn.Parameter(torch.randn(c, D_out) / math.sqrt(c))\n",
    "#         self.bias = nn.Parameter(torch.zeros(D_out))\n",
    "        \n",
    "    def forward(self, xb):\n",
    "        return self.lin(xb)\n",
    "    \n",
    "class SoundRecognition_CNN(nn.Module):\n",
    "    def __init__(self):\n",
    "        super().__init__()\n",
    "        self.conv1 = nn.Conv2d(1, 16, kernel_size=3, stride=1, padding=0)\n",
    "        self.conv2 = nn.Conv2d(16, 16, kernel_size=3, stride=1, padding=0)\n",
    "        self.conv3 = nn.Conv2d(16, 16, kernel_size=3, stride=1, padding=0)\n",
    "        \n",
    "        self.pool = nn.MaxPool2d(kernel_size=2, stride=2, padding=0)\n",
    "        self.fc1 = torch.nn.Linear(16*3*27, 10)\n",
    "\n",
    "    def forward(self, xb):\n",
    "        #print(type(xb), len(xb))\n",
    "        \n",
    "        ## input of size (bs, 1, 12, 60)\n",
    "        xb = xb.view(-1, 1, chroma_shape[0], chroma_shape[1])\n",
    "        #print('xb shape', xb.shape)\n",
    "        \n",
    "        ## (bs, 1, 12, 60) >> (bs, 16, 10, 58)\n",
    "        xb = F.relu(self.conv1(xb))\n",
    "        #print('---xb shape2', xb.shape)\n",
    "        \n",
    "        ## (bs, 16, 10, 58) >> (bs, 16, 8, 56)\n",
    "        xb = F.relu(self.conv2(xb))\n",
    "        #print('---xb shape3', xb.shape)\n",
    "        \n",
    "        ## (bs, 16, 8, 56) >> (bs, 16, 6, 54)\n",
    "        xb = F.relu(self.conv3(xb))\n",
    "        #print('---xb shape4', xb.shape)\n",
    "        \n",
    "        ## (bs, 16, 6, 54) >> (bs, 16, 3, 27)\n",
    "        xb = self.pool(xb)\n",
    "        #print('---xb shape5', xb.shape)\n",
    "        \n",
    "        ## reshape for fully connected\n",
    "        xb = xb.view(-1, 16*3*27)\n",
    "        \n",
    "        ## (bs, 16*3*27) >> (bs, 10)\n",
    "        xb = self.fc1(xb)\n",
    "        #print('---xb shape6', xb.shape)\n",
    "        return xb.view(-1, xb.size(1))\n",
    "\n",
    "## Get the model and optim object that will be used to update model parameters\n",
    "def get_model():\n",
    "    model = SoundRecognition_CNN()\n",
    "    return model, optim.SGD(model.parameters(), lr = lr)"
   ]
  },
  {
   "cell_type": "code",
   "execution_count": 90,
   "metadata": {},
   "outputs": [
    {
     "name": "stdout",
     "output_type": "stream",
     "text": [
      "Training\n",
      "Validating\n",
      "Epoch:  0  | Loss:  tensor(139.0387)  | Accuracy:  tensor(0.1390)\n",
      "Training\n",
      "Validating\n",
      "Epoch:  1  | Loss:  tensor(136.4679)  | Accuracy:  tensor(0.1390)\n",
      "Training\n",
      "Validating\n",
      "Epoch:  2  | Loss:  tensor(135.6625)  | Accuracy:  tensor(0.1390)\n",
      "Training\n",
      "Validating\n",
      "Epoch:  3  | Loss:  tensor(135.2713)  | Accuracy:  tensor(0.1390)\n",
      "Training\n",
      "Validating\n",
      "Epoch:  4  | Loss:  tensor(135.0407)  | Accuracy:  tensor(0.1390)\n",
      "Training\n",
      "Validating\n",
      "Epoch:  5  | Loss:  tensor(134.8887)  | Accuracy:  tensor(0.1390)\n",
      "Training\n",
      "Validating\n",
      "Epoch:  6  | Loss:  tensor(134.7812)  | Accuracy:  tensor(0.1390)\n",
      "Training\n",
      "Validating\n",
      "Epoch:  7  | Loss:  tensor(134.7009)  | Accuracy:  tensor(0.1390)\n",
      "Training\n",
      "Validating\n",
      "Epoch:  8  | Loss:  tensor(134.6387)  | Accuracy:  tensor(0.1390)\n",
      "Training\n",
      "Validating\n",
      "Epoch:  9  | Loss:  tensor(134.5892)  | Accuracy:  tensor(0.1390)\n"
     ]
    }
   ],
   "source": [
    "model, opt = get_model()\n",
    "\n",
    "def fit():\n",
    "    for epoch in range(epochs):\n",
    "        \n",
    "        print('Training')\n",
    "        model.train()\n",
    "        for i in range((train_n - 1) // train_bs + 1):\n",
    "            \n",
    "            start_i = i * train_bs\n",
    "            end_i = start_i + train_bs\n",
    "            xb = x_train[start_i:end_i, :, :]\n",
    "            yb = y_train[start_i:end_i]\n",
    "            pred = model(xb)\n",
    "            loss = loss_func(pred, yb)\n",
    "\n",
    "            loss.backward()\n",
    "            opt.step()\n",
    "            opt.zero_grad()\n",
    "        \n",
    "            #print('Acc: ', accuracy(pred, yb))\n",
    "        \n",
    "        ####validate at each epoch\n",
    "        print('Validating')\n",
    "        model.eval()\n",
    "        loss = []\n",
    "        acc = []\n",
    "        with torch.no_grad():\n",
    "#             for i in range((valid_n - 1) // validate_bs + 1):\n",
    "#                 start_i = i * validate_bs\n",
    "#                 end_i = start_i + validate_bs\n",
    "#                 xb = x_valid[start_i:end_i]\n",
    "#                 yb = y_valid[start_i:end_i]\n",
    "#                 pred = model(xb)\n",
    "#                 #print('----', yb)\n",
    "#                 loss.append(loss_func(pred, yb))\n",
    "#                 acc.append(accuracy(pred, yb))\n",
    "\n",
    "            for i in range((train_n - 1) // train_bs + 1):\n",
    "\n",
    "                start_i = i * train_bs\n",
    "                end_i = start_i + train_bs\n",
    "                xb = x_train[start_i:end_i, :, :]\n",
    "                yb = y_train[start_i:end_i]\n",
    "                pred = model(xb)\n",
    "                loss.append(loss_func(pred, yb))\n",
    "                acc.append(accuracy(pred, yb))\n",
    "        \n",
    "        #print(loss)\n",
    "        valid_loss = sum(loss)\n",
    "        valid_acc = sum(acc)\n",
    "        \n",
    "    \n",
    "        print('Epoch: ', epoch, ' | Loss: ', valid_loss, ' | Accuracy: ', valid_acc/len(y_train))\n",
    "    print('Train Finished')\n",
    "\n",
    "fit()\n"
   ]
  },
  {
   "cell_type": "code",
   "execution_count": null,
   "metadata": {},
   "outputs": [],
   "source": []
  }
 ],
 "metadata": {
  "kernelspec": {
   "display_name": "Python 3",
   "language": "python",
   "name": "python3"
  },
  "language_info": {
   "codemirror_mode": {
    "name": "ipython",
    "version": 3
   },
   "file_extension": ".py",
   "mimetype": "text/x-python",
   "name": "python",
   "nbconvert_exporter": "python",
   "pygments_lexer": "ipython3",
   "version": "3.7.3"
  }
 },
 "nbformat": 4,
 "nbformat_minor": 2
}
