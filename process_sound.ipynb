{
 "cells": [
  {
   "cell_type": "code",
   "execution_count": 1,
   "metadata": {},
   "outputs": [],
   "source": [
    "## extracts features from audio files and converts into numpy\n",
    "import librosa\n",
    "import numpy as np\n",
    "import os, re, csv, sys\n",
    "from datetime import datetime\n",
    "\n",
    "global hop_length\n",
    "\n",
    "# Set the hop length; at 22050 Hz, 512 samples ~= 23ms\n",
    "hop_length = 128\n"
   ]
  },
  {
   "cell_type": "code",
   "execution_count": 1,
   "metadata": {},
   "outputs": [],
   "source": [
    "## return a (flatten) one-D array of mfcc of an audio file\n",
    "def getMFCC(audio_file):\n",
    "\n",
    "    #print('*getting ', audio_file)\n",
    "    y, sr = librosa.load(audio_file)\n",
    "    # Compute MFCC features from the raw signal\n",
    "    return librosa.feature.mfcc(y=y, sr=sr, hop_length=hop_length, n_mfcc=13).flatten()\n",
    "\n",
    "## return a (flatten) one-D array of chromagram of an audio file\n",
    "def getChroma(audio_file):\n",
    "\n",
    "    y, sr = librosa.load(audio_file)\n",
    "    # Separate harmonics and percussives into two waveforms\n",
    "    y_harmonic, y_percussive = librosa.effects.hpss(y)\n",
    "\n",
    "    # Compute chroma features from the harmonic signal\n",
    "    return librosa.feature.chroma_cqt(y=y_harmonic,\n",
    "                                            sr=sr).flatten()\n",
    "\n",
    "\n",
    "## return a list of 1-d array of MFCC padded with 0's of ALL audio files\n",
    "def getPaddedMFCC(audio_files):\n",
    "    result = [getMFCC(f) for f in audio_files]\n",
    "\n",
    "    ##pad arrays with 0's. Get arrays of size Max\n",
    "    max_len = max([len(x) for x in result])\n",
    "    padded = [np.pad(x, (0, max_len - len(x)), mode = 'constant') for x in result]\n",
    "\n",
    "    ##sanity check\n",
    "    is_shorter = sum([len(x) - max_len for x in padded])\n",
    "    if is_shorter < 0:\n",
    "        print('not padded well')\n",
    "        return -1\n",
    "    else:\n",
    "        return padded\n",
    "\n",
    "## return a list of 1-d array of chromagram padded with 0's of ALL audio files\n",
    "def getPaddedChroma(audio_files):\n",
    "    result = [getChroma(f) for f in audio_files]\n",
    "\n",
    "    ##pad arrays with 0's. Get arrays of size Max\n",
    "    max_len = max([len(x) for x in result])\n",
    "    padded = [np.pad(x, (0, max_len - len(x)), mode = 'constant') for x in result]\n",
    "\n",
    "    ##sanity check\n",
    "    is_shorter = sum([len(x) - max_len for x in padded])\n",
    "    if is_shorter < 0:\n",
    "        print('not padded well')\n",
    "        return -1\n",
    "    else:\n",
    "        return padded"
   ]
  },
  {
   "cell_type": "code",
   "execution_count": null,
   "metadata": {},
   "outputs": [],
   "source": [
    "##will stay at the same directoty\n",
    "def process_audio(audio_dir):\n",
    "    \n",
    "    ##save the current directory\n",
    "    cwd = os.getcwd()\n",
    "\n",
    "    ##change to sound file directory !!hard-coded\n",
    "    #audio_dir = '/Users/panchanok/Desktop/PyHack2019/PyHack2019/sound_samples/validate/'\n",
    "    os.chdir(audio_dir)\n",
    "\n",
    "    ##list files in the directory\n",
    "    audio_files = os.listdir(audio_dir)\n",
    "    print('Processing ', len(audio_files), ' files')\n",
    "    \n",
    "    print('getting mfcc')\n",
    "    mfcc = getPaddedMFCC(audio_files)\n",
    "    print('getting chromagram')\n",
    "    chrom = getPaddedChroma(audio_files)\n",
    "\n",
    "    ### user cannot fix this\n",
    "    assert (mfcc != -1 and chrom != -1), \"Audio process does not produce uniform format.\"\n",
    "        \n",
    "    ## concatenate mfcc and chrom features\n",
    "    attr_input = [np.hstack([m, c]) for m, c in zip(mfcc, chrom)]\n",
    "\n",
    "    ## checking the final length\n",
    "    #print(len(mfcc[5]), len(chrom[5]), len(x[5]))\n",
    "\n",
    "\n",
    "    ##detect targets from sound names\n",
    "    p = re.compile('^[aeou]|[bcdfghjklmnpqrstwxyz]+(?=[aeiou])')\n",
    "    target_input = [p.match(f).group() for f in audio_files]\n",
    "\n",
    "    ## change back to the original path\n",
    "    os.chdir(cwd)\n",
    "    \n",
    "    \n",
    "    this_time = datetime.now().strftime('%H_%M_%S')\n",
    "    attr_export_name = 'attr_in_' + this_time + '.csv'\n",
    "    target_export_name = 'target_in_' + this_time + '.csv'\n",
    "\n",
    "    with open(attr_export_name,\"w+\") as processed:\n",
    "        csvWriter = csv.writer(processed,delimiter=',')\n",
    "        csvWriter.writerows(attr_input)\n",
    "\n",
    "    with open(target_export_name,\"w+\") as processed:\n",
    "        csvWriter = csv.writer(processed,delimiter=',')\n",
    "        csvWriter.writerows(target_input)\n",
    "\n",
    "    ## check final lengths\n",
    "    #print(len(att_input[3]), len(labeled_input[3]), labeled_input)\n",
    "    print('Attribute data saved as ', attr_export_name)\n",
    "    print('Target data saved as ', target_export_name)\n",
    "    "
   ]
  },
  {
   "cell_type": "markdown",
   "metadata": {},
   "source": [
    "If there is error from the above chunk, make sure only mp3 is included in aggr/. Check even invisible .dstore"
   ]
  },
  {
   "cell_type": "code",
   "execution_count": 3,
   "metadata": {},
   "outputs": [
    {
     "name": "stdout",
     "output_type": "stream",
     "text": [
      "Attribute data saved as  attr_in_20_33_40.csv\n",
      "Target data saved as  target_in_20_33_40.csv\n"
     ]
    }
   ],
   "source": [
    "validate_path = '/Users/panchanok/Desktop/PyHack2019/PyHack2019/sound_samples/validate/'\n",
    "mfcc, chrom = process_audio(validate_path)"
   ]
  }
 ],
 "metadata": {
  "kernelspec": {
   "display_name": "Python 3",
   "language": "python",
   "name": "python3"
  },
  "language_info": {
   "codemirror_mode": {
    "name": "ipython",
    "version": 3
   },
   "file_extension": ".py",
   "mimetype": "text/x-python",
   "name": "python",
   "nbconvert_exporter": "python",
   "pygments_lexer": "ipython3",
   "version": "3.7.3"
  }
 },
 "nbformat": 4,
 "nbformat_minor": 2
}
