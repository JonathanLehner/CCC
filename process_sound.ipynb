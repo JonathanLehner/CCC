{
 "cells": [
  {
   "cell_type": "code",
   "execution_count": 1,
   "metadata": {},
   "outputs": [],
   "source": [
    "## extracts features from audio files and converts into numpy\n",
    "import librosa\n",
    "import numpy as np\n",
    "import os, re, csv\n",
    "from datetime import datetime\n",
    "\n",
    "global hop_length\n",
    "\n",
    "# Set the hop length; at 22050 Hz, 512 samples ~= 23ms\n",
    "hop_length = 128\n"
   ]
  },
  {
   "cell_type": "code",
   "execution_count": 2,
   "metadata": {},
   "outputs": [
    {
     "name": "stdout",
     "output_type": "stream",
     "text": [
      "Taking:  ['si1_FV3_MP3.mp3', 'ceng3_MV3_MP3.mp3', 'xi3_MV1_MP3.mp3', 'de3_MV1_MP3.mp3', 'si1_MV2_MP3.mp3', 'pou4_MV1_MP3.mp3', 'quan1_MV1_MP3.mp3', 'xia3_FV2_MP3.mp3', 'que1_MV1_MP3.mp3', 'cha3_MV3_MP3.mp3', 'si2_FV1_MP3.mp3', 'xia3_FV3_MP3.mp3', 'dei1_MV2_MP3.mp3', 'si2_MV1_MP3.mp3', 'dei1_FV3_MP3.mp3', 'chi4_FV1_MP3.mp3', 'xi3_FV1_MP3.mp3', 'si1_FV2_MP3.mp3', 'si1_MV3_MP3.mp3', 'shei1_MV2_MP3.mp3', 'que1_MV2_MP3.mp3', 'xia3_FV1_MP3.mp3', 'quan1_MV2_MP3.mp3', 'si2_FV2_MP3.mp3', 'que1_FV3_MP3.mp3', 'quan1_FV3_MP3.mp3', 'chi4_FV3_MP3.mp3', 'de3_FV3_MP3.mp3', 'xi3_FV3_MP3.mp3', 'pou2_MV1_MP3.mp3', 'si1_MV1_MP3.mp3', 'de3_MV2_MP3.mp3', 'xi3_MV2_MP3.mp3', 'si1_FV1_MP3.mp3', 'xi3_FV2_MP3.mp3', 'xi3_MV3_MP3.mp3', 'po4_MV1_MP3.mp3', 'dei1_MV1_MP3.mp3', 'ao2_MV2_MP3.mp3', 'si2_FV3_MP3.mp3', 'chi4_FV2_MP3.mp3', 'quan3_MV2_MP3.mp3', 'xia1_FV1_MP3.mp3', 'chi3_MV3_MP3.mp3', 'pu4_MV1_MP3.mp3', 'cong4_FV2_MP3.mp3', 'quan3_FV3_MP3.mp3', 'wang2_MV3_MP3.mp3', 'xia2_MV2_MP3.mp3', 'de1_FV3_MP3.mp3', 'xi4_FV2_MP3.mp3', 'de1_MV2_MP3.mp3', 'xia2_FV3_MP3.mp3', 'qu3_MV1_MP3.mp3', 'xi4_MV3_MP3.mp3', 'xia2_MV3_MP3.mp3', 'wang4_MV1_MP3.mp3', 'xi4_FV3_MP3.mp3', 'xia2_FV2_MP3.mp3', 'ceng4_FV1_MP3.mp3', 'cha2_FV2_MP3.mp3', 'xi4_MV2_MP3.mp3', 'wang2_FV3_MP3.mp3', 'xi2_MV1_MP3.mp3', 'chi3_MV2_MP3.mp3', 'cha4_FV1_MP3.mp3', 'ci2_FV2_MP3.mp3', 'xia1_MV1_MP3.mp3', 'wang2_MV2_MP3.mp3', 'chi3_FV3_MP3.mp3', 'wang4_MV3_MP3.mp3', 'xi4_FV1_MP3.mp3', 'xia2_MV1_MP3.mp3', 'qu3_FV3_MP3.mp3', 'bing4_FV2_MP3.mp3', 'qu3_MV2_MP3.mp3', 'de1_MV1_MP3.mp3', 'pu2_MV1_MP3.mp3', 'cong2_FV2_MP3.mp3', 'xia1_FV2_MP3.mp3', 'cou2_FV2_MP3.mp3', 'quan3_MV1_MP3.mp3', 'xi2_MV3_MP3.mp3', 'xia1_MV3_MP3.mp3', 'cha1_MV3_MP3.mp3', 'cha4_FV2_MP3.mp3', 'chi3_MV1_MP3.mp3', 'xi2_MV2_MP3.mp3', 'xia1_FV3_MP3.mp3', 'xi2_FV3_MP3.mp3', 'wang2_MV1_MP3.mp3', 'xia1_MV2_MP3.mp3', 'wang4_MV2_MP3.mp3', 'ba2_FV3_MP3.mp3', 'xi4_MV1_MP3.mp3', 'qi2_MV1_MP3.mp3', 'wang4_FV3_MP3.mp3', 'ceng4_FV2_MP3.mp3', 'cha2_FV1_MP3.mp3', 'ci4_FV2_MP3.mp3', 'xia2_FV1_MP3.mp3']\n",
      "getting mfcc\n",
      "getting chromagram\n"
     ]
    }
   ],
   "source": [
    "##save the current directory\n",
    "cwd = os.getcwd()\n",
    "\n",
    "##change to sound file directory !!hard-coded\n",
    "audio_dir = '/Users/panchanok/Desktop/PyHack2019/PyHack2019/sound_samples/aggr/'\n",
    "os.chdir(audio_dir)\n",
    "\n",
    "##list files in the directory\n",
    "audio_files = os.listdir(audio_dir)\n",
    "print('Taking: ', audio_files)\n",
    "\n",
    "\n",
    "## return a (flatten) one-D array of mfcc of an audio file\n",
    "def getMFCC(audio_file):\n",
    "\n",
    "    #print('*getting ', audio_file)\n",
    "    y, sr = librosa.load(audio_file)\n",
    "    # Compute MFCC features from the raw signal\n",
    "    return librosa.feature.mfcc(y=y, sr=sr, hop_length=hop_length, n_mfcc=13).flatten()\n",
    "\n",
    "## return a (flatten) one-D array of chromagram of an audio file\n",
    "def getChroma(audio_file):\n",
    "\n",
    "    y, sr = librosa.load(audio_file)\n",
    "    # Separate harmonics and percussives into two waveforms\n",
    "    y_harmonic, y_percussive = librosa.effects.hpss(y)\n",
    "\n",
    "    # Compute chroma features from the harmonic signal\n",
    "    return librosa.feature.chroma_cqt(y=y_harmonic,\n",
    "                                            sr=sr).flatten()\n",
    "\n",
    "\n",
    "## return a list of 1-d array of MFCC padded with 0's of ALL audio files\n",
    "def getPaddedMFCC(audio_files):\n",
    "    result = [getMFCC(f) for f in audio_files]\n",
    "\n",
    "    ##pad arrays with 0's. Get arrays of size Max\n",
    "    max_len = max([len(x) for x in result])\n",
    "    padded = [np.pad(x, (0, max_len - len(x)), mode = 'constant') for x in result]\n",
    "\n",
    "    ##sanity check\n",
    "    is_shorter = sum([len(x) - max_len for x in padded])\n",
    "    if is_shorter < 0:\n",
    "        print('not padded well')\n",
    "        return -1\n",
    "    else:\n",
    "        return padded\n",
    "\n",
    "## return a list of 1-d array of chromagram padded with 0's of ALL audio files\n",
    "def getPaddedChroma(audio_files):\n",
    "    result = [getChroma(f) for f in audio_files]\n",
    "\n",
    "    ##pad arrays with 0's. Get arrays of size Max\n",
    "    max_len = max([len(x) for x in result])\n",
    "    padded = [np.pad(x, (0, max_len - len(x)), mode = 'constant') for x in result]\n",
    "\n",
    "    ##sanity check\n",
    "    is_shorter = sum([len(x) - max_len for x in padded])\n",
    "    if is_shorter < 0:\n",
    "        print('not padded well')\n",
    "        return -1\n",
    "    else:\n",
    "        return padded\n",
    "\n",
    "print('getting mfcc')\n",
    "mfcc = getPaddedMFCC(audio_files)\n",
    "print('getting chromagram')\n",
    "chrom = getPaddedChroma(audio_files)\n",
    "\n",
    "if mfcc == -1 or chrom == -1:\n",
    "    print('ATTENTION: some instance is not padded')\n",
    "    exit()\n"
   ]
  },
  {
   "cell_type": "markdown",
   "metadata": {},
   "source": [
    "If there is error from the above chunk, make sure only mp3 is included in aggr/. Check even invisible .dstore"
   ]
  },
  {
   "cell_type": "code",
   "execution_count": 3,
   "metadata": {},
   "outputs": [
    {
     "name": "stdout",
     "output_type": "stream",
     "text": [
      "Attribute data saved as  attr_in_16_43_55.csv\n",
      "Target data saved as  target_in_16_43_55.csv\n"
     ]
    }
   ],
   "source": [
    "\n",
    "## concatenate mfcc and chrom features\n",
    "attr_input = [np.hstack([m, c]) for m, c in zip(mfcc, chrom)]\n",
    "\n",
    "## checking the final length\n",
    "#print(len(mfcc[5]), len(chrom[5]), len(x[5]))\n",
    "\n",
    "\n",
    "##detect targets from sound names\n",
    "p = re.compile('^[aeou]|[bcdfghjklmnpqrstwxyz]+(?=[aeiou])')\n",
    "target_input = [p.match(f).group() for f in audio_files]\n",
    "\n",
    "##for debugging\n",
    "# for i in range(len(audio_files)):\n",
    "#     f = audio_files[i]\n",
    "#     print(f)\n",
    "#     p.match(f).group()\n",
    "\n",
    "## check corrrectness\n",
    "#print(target)\n",
    "#print(audio_files)\n",
    "\n",
    "\n",
    "# ## tag labels to attributes. Return 2-d array.\n",
    "# labeled_input = np.array([np.hstack([i, l]) for i, l in zip(att_input, target)])\n",
    "\n",
    "\n",
    "os.chdir(cwd)\n",
    "this_time = datetime.now().strftime('%H_%M_%S')\n",
    "attr_export_name = 'attr_in_' + this_time + '.csv'\n",
    "target_export_name = 'target_in_' + this_time + '.csv'\n",
    "\n",
    "with open(attr_export_name,\"w+\") as processed:\n",
    "    csvWriter = csv.writer(processed,delimiter=',')\n",
    "    csvWriter.writerows(attr_input)\n",
    "\n",
    "with open(target_export_name,\"w+\") as processed:\n",
    "    csvWriter = csv.writer(processed,delimiter=',')\n",
    "    csvWriter.writerows(target_input)\n",
    "\n",
    "## check final lengths\n",
    "#print(len(att_input[3]), len(labeled_input[3]), labeled_input)\n",
    "print('Attribute data saved as ', attr_export_name)\n",
    "print('Target data saved as ', target_export_name)\n"
   ]
  }
 ],
 "metadata": {
  "kernelspec": {
   "display_name": "Python 3",
   "language": "python",
   "name": "python3"
  },
  "language_info": {
   "codemirror_mode": {
    "name": "ipython",
    "version": 3
   },
   "file_extension": ".py",
   "mimetype": "text/x-python",
   "name": "python",
   "nbconvert_exporter": "python",
   "pygments_lexer": "ipython3",
   "version": "3.7.3"
  }
 },
 "nbformat": 4,
 "nbformat_minor": 2
}
