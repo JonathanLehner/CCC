{
 "cells": [
  {
   "cell_type": "code",
   "execution_count": 1,
   "metadata": {},
   "outputs": [],
   "source": [
    "## extracts features from audio files and converts into numpy\n",
    "import librosa\n",
    "import numpy as np\n",
    "import os, re, csv\n",
    "from datetime import datetime\n",
    "\n",
    "global hop_length\n",
    "\n",
    "# Set the hop length; at 22050 Hz, 512 samples ~= 23ms\n",
    "hop_length = 128\n"
   ]
  },
  {
   "cell_type": "code",
   "execution_count": 2,
   "metadata": {},
   "outputs": [
    {
     "name": "stdout",
     "output_type": "stream",
     "text": [
      "Taking:  ['seng1_FV3_MP3.mp3', 'cui3_FV3_MP3.mp3', 'shu4_MV3_MP3.mp3', 'xiong2_FV3_MP3.mp3', 'sou4_FV3_MP3.mp3', 'xuan4_MV3_MP3.mp3', 'cuan2_FV3_MP3.mp3', 'cun3_FV3_MP3.mp3', 'qu1_FV3_MP3.mp3', 'cen1_MV3_MP3.mp3', 'si1_FV3_MP3.mp3', 'xue2_FV3_MP3.mp3', 'shan2_MV3_MP3.mp3', 'can4_FV3_MP3.mp3', 'chi2_FV3_MP3.mp3', 'ci3_MV3_MP3.mp3', 'ceng3_MV3_MP3.mp3', 'chong4_FV3_MP3.mp3', 'xin2_FV3_MP3.mp3', 'song2_FV3_MP3.mp3', 'cai4_FV3_MP3.mp3', 'shai2_MV3_MP3.mp3', 'suo2_MV3_MP3.mp3', 'can1_MV3_MP3.mp3', 'si4_MV3_MP3.mp3', 'qiong3_MV3_MP3.mp3', 'quan2_MV3_MP3.mp3', 'chong1_MV3_MP3.mp3', 'chui2_MV3_MP3.mp3', 'chuai3_FV3_MP3.mp3', 'sheng2_FV3_MP3.mp3', 'cai1_MV3_MP3.mp3', 'qin2_MV3_MP3.mp3', 'que2_MV3_MP3.mp3', 'chuan3_FV3_MP3.mp3', 'chun2_MV3_MP3.mp3', 'cheng2_MV3_MP3.mp3', 'seng4_MV3_MP3.mp3', 'shuai3_MV3_MP3.mp3', 'xu2_MV3_MP3.mp3', 'shu1_FV3_MP3.mp3', 'xian3_MV3_MP3.mp3', 'shei2_MV3_MP3.mp3', 'sha2_MV3_MP3.mp3', 'xuan1_FV3_MP3.mp3', 'sou1_MV3_MP3.mp3', 'shuan3_MV3_MP3.mp3', 'cen4_FV3_MP3.mp3', 'shen2_MV3_MP3.mp3', 'qu4_MV3_MP3.mp3', 'shang1_MV3_MP3.mp3', 'se2_MV3_MP3.mp3', 'qie4_MV3_MP3.mp3', 'che1_MV3_MP3.mp3', 'shua1_MV3_MP3.mp3', 'qun4_MV3_MP3.mp3', 'shuang1_MV3_MP3.mp3', 'shi3_FV3_MP3.mp3', 'xun1_MV3_MP3.mp3', 'chou1_FV3_MP3.mp3', 'cuo3_MV3_MP3.mp3', 'xie1_MV3_MP3.mp3', 'cao4_MV3_MP3.mp3', 'shao2_FV3_MP3.mp3', 'qiang3_FV3_MP3.mp3', 'qia3_FV3_MP3.mp3', 'chua3_FV3_MP3.mp3', 'chang1_FV3_MP3.mp3', 'cu4_FV3_MP3.mp3', 'sui2_FV3_MP3.mp3', 'shou3_MV3_MP3.mp3', 'sun2_FV3_MP3.mp3', 'cao1_FV3_MP3.mp3', 'su3_FV3_MP3.mp3', 'cha3_MV3_MP3.mp3', 'ca2_FV3_MP3.mp3', 'sang2_MV3_MP3.mp3', 'cu1_MV3_MP3.mp3', 'chang4_MV3_MP3.mp3', 'chuo2_FV3_MP3.mp3', 'xia3_MV3_MP3.mp3', 'shang4_FV3_MP3.mp3', 'shua4_FV3_MP3.mp3', 'che4_FV3_MP3.mp3', 'qie1_FV3_MP3.mp3', 'qun1_FV3_MP3.mp3', 'xiao3_FV3_MP3.mp3', 'shuang4_FV3_MP3.mp3', 'xiang2_MV3_MP3.mp3', 'xun4_FV3_MP3.mp3', 'chou4_MV3_MP3.mp3', 'xing3_FV3_MP3.mp3', 'qi3_FV3_MP3.mp3', 'xie4_FV3_MP3.mp3', 'chuo2_MV3_MP3.mp3', 'xia3_FV3_MP3.mp3', 'ca2_MV3_MP3.mp3', 'sang2_FV3_MP3.mp3', 'chang4_FV3_MP3.mp3', 'cu1_FV3_MP3.mp3', 'cao1_MV3_MP3.mp3', 'su3_MV3_MP3.mp3', 'cha3_FV3_MP3.mp3', 'xing3_MV3_MP3.mp3', 'qi3_MV3_MP3.mp3', 'xie4_MV3_MP3.mp3', 'xun4_MV3_MP3.mp3', 'chou4_FV3_MP3.mp3', 'xiao3_MV3_MP3.mp3', 'qun1_MV3_MP3.mp3', 'xiang2_FV3_MP3.mp3', 'shuang4_MV3_MP3.mp3', 'shang4_MV3_MP3.mp3', 'che4_MV3_MP3.mp3', 'qie1_MV3_MP3.mp3', 'shua4_MV3_MP3.mp3', 'xie1_FV3_MP3.mp3', 'xun1_FV3_MP3.mp3', 'cuo3_FV3_MP3.mp3', 'chou1_MV3_MP3.mp3', 'qun4_FV3_MP3.mp3', 'shi3_MV3_MP3.mp3', 'shuang1_FV3_MP3.mp3', 'se2_FV3_MP3.mp3', 'shang1_FV3_MP3.mp3', 'shua1_FV3_MP3.mp3', 'qie4_FV3_MP3.mp3', 'che1_FV3_MP3.mp3', 'shou3_FV3_MP3.mp3', 'sun2_MV3_MP3.mp3', 'chua3_MV3_MP3.mp3', 'cu4_MV3_MP3.mp3', 'sui2_MV3_MP3.mp3', 'chang1_MV3_MP3.mp3', 'shao2_MV3_MP3.mp3', 'cao4_FV3_MP3.mp3', 'qiang3_MV3_MP3.mp3', 'qia3_MV3_MP3.mp3', 'que2_FV3_MP3.mp3', 'chun2_FV3_MP3.mp3', 'chuan3_MV3_MP3.mp3', 'cai1_FV3_MP3.mp3', 'qin2_FV3_MP3.mp3', 'chuai3_MV3_MP3.mp3', 'chui2_FV3_MP3.mp3', 'chong1_FV3_MP3.mp3', 'sheng2_MV3_MP3.mp3', 'si4_FV3_MP3.mp3', 'can1_FV3_MP3.mp3', 'quan2_FV3_MP3.mp3', 'qiong3_FV3_MP3.mp3', 'qu4_FV3_MP3.mp3', 'shen2_FV3_MP3.mp3', 'cen4_MV3_MP3.mp3', 'sou1_FV3_MP3.mp3', 'xuan1_MV3_MP3.mp3', 'shuan3_FV3_MP3.mp3', 'shu1_MV3_MP3.mp3', 'xu2_FV3_MP3.mp3', 'xian3_FV3_MP3.mp3', 'shei2_FV3_MP3.mp3', 'sha2_FV3_MP3.mp3', 'cheng2_FV3_MP3.mp3', 'shuai3_FV3_MP3.mp3', 'seng4_FV3_MP3.mp3', 'cen1_FV3_MP3.mp3', 'qu1_MV3_MP3.mp3', 'xuan4_FV3_MP3.mp3', 'sou4_MV3_MP3.mp3', 'cuan2_MV3_MP3.mp3', 'cun3_MV3_MP3.mp3', 'xiong2_MV3_MP3.mp3', 'shu4_FV3_MP3.mp3', 'cui3_MV3_MP3.mp3', 'seng1_MV3_MP3.mp3', 'suo2_FV3_MP3.mp3', 'shai2_FV3_MP3.mp3', 'cai4_MV3_MP3.mp3', 'ceng3_FV3_MP3.mp3', 'chong4_MV3_MP3.mp3', 'ci3_FV3_MP3.mp3', 'xin2_MV3_MP3.mp3', 'song2_MV3_MP3.mp3', 'can4_MV3_MP3.mp3', 'shan2_FV3_MP3.mp3', 'xue2_MV3_MP3.mp3', 'si1_MV3_MP3.mp3', 'chi2_MV3_MP3.mp3', 'qin4_MV3_MP3.mp3', 'shai1_FV3_MP3.mp3', 'suo1_FV3_MP3.mp3', 'suan3_FV3_MP3.mp3', 'que4_MV3_MP3.mp3', 'chun4_MV3_MP3.mp3', 'chi1_MV3_MP3.mp3', 'quan4_MV3_MP3.mp3', 'shan1_FV3_MP3.mp3', 'si2_MV3_MP3.mp3', 'xue1_MV3_MP3.mp3', 'song1_MV3_MP3.mp3', 'xin1_MV3_MP3.mp3', 'she3_FV3_MP3.mp3', 'sheng4_FV3_MP3.mp3', 'chui4_MV3_MP3.mp3', 'cuan1_MV3_MP3.mp3', 'chai3_MV3_MP3.mp3', 'cen2_FV3_MP3.mp3', 'shen4_MV3_MP3.mp3', 'qu2_MV3_MP3.mp3', 'seng2_MV3_MP3.mp3', 'cheng4_MV3_MP3.mp3', 'cong3_FV3_MP3.mp3', 'shei4_MV3_MP3.mp3', 'sha4_MV3_MP3.mp3', 'chan3_MV3_MP3.mp3', 'chuang3_FV3_MP3.mp3', 'xiong1_MV3_MP3.mp3', 'xu4_MV3_MP3.mp3', 'shun3_MV3_MP3.mp3', 'sou2_FV3_MP3.mp3', 'xuan2_MV3_MP3.mp3', 'cuan4_FV3_MP3.mp3', 'shen1_FV3_MP3.mp3', 'shui3_MV3_MP3.mp3', 'cheng1_FV3_MP3.mp3', 'sha1_FV3_MP3.mp3', 'shei1_FV3_MP3.mp3', 'sao3_MV3_MP3.mp3', 'xu1_FV3_MP3.mp3', 'shu2_MV3_MP3.mp3', 'xiong4_FV3_MP3.mp3', 'qin1_FV3_MP3.mp3', 'cai2_FV3_MP3.mp3', 'shai4_MV3_MP3.mp3', 'chen3_MV3_MP3.mp3', 'suo4_MV3_MP3.mp3', 'qian3_MV3_MP3.mp3', 'chun1_FV3_MP3.mp3', 'que1_FV3_MP3.mp3', 'quan1_FV3_MP3.mp3', 'chi4_FV3_MP3.mp3', 'xue4_FV3_MP3.mp3', 'shan4_MV3_MP3.mp3', 'can2_FV3_MP3.mp3', 'sheng1_MV3_MP3.mp3', 'xin4_FV3_MP3.mp3', 'song4_FV3_MP3.mp3', 'chui1_FV3_MP3.mp3', 'chong2_FV3_MP3.mp3', 'sen3_FV3_MP3.mp3', 'sun1_MV3_MP3.mp3', 'chuo4_FV3_MP3.mp3', 'qiu3_FV3_MP3.mp3', 'shao1_MV3_MP3.mp3', 'sui1_MV3_MP3.mp3', 'chang2_MV3_MP3.mp3', 'ca4_FV3_MP3.mp3', 'sang4_MV3_MP3.mp3', 'chou2_MV3_MP3.mp3', 'xun2_FV3_MP3.mp3', 'xie2_FV3_MP3.mp3', 'shua2_FV3_MP3.mp3', 'che2_FV3_MP3.mp3', 'se1_FV3_MP3.mp3', 'shang2_FV3_MP3.mp3', 'xi3_FV3_MP3.mp3', 'shuang2_FV3_MP3.mp3', 'chao3_FV3_MP3.mp3', 'xiang4_MV3_MP3.mp3', 'ce3_MV3_MP3.mp3', 'shuo3_FV3_MP3.mp3', 'sai3_FV3_MP3.mp3', 'qie2_MV3_MP3.mp3', 'cang3_MV3_MP3.mp3', 'se4_MV3_MP3.mp3', 'xiang1_FV3_MP3.mp3', 'san3_FV3_MP3.mp3', 'qun2_MV3_MP3.mp3', 'qiao3_FV3_MP3.mp3', 'sun4_FV3_MP3.mp3', 'xiu3_MV3_MP3.mp3', 'chuo1_MV3_MP3.mp3', 'cou3_FV3_MP3.mp3', 'sa3_FV3_MP3.mp3', 'cao2_MV3_MP3.mp3', 'shao4_FV3_MP3.mp3', 'chu3_MV3_MP3.mp3', 'qing3_FV3_MP3.mp3', 'cu2_FV3_MP3.mp3', 'sui4_FV3_MP3.mp3', 'sang1_FV3_MP3.mp3', 'ca1_MV3_MP3.mp3', 'xiang1_MV3_MP3.mp3', 'qun2_FV3_MP3.mp3', 'san3_MV3_MP3.mp3', 'cang3_FV3_MP3.mp3', 'qie2_FV3_MP3.mp3', 'se4_FV3_MP3.mp3', 'sai3_MV3_MP3.mp3', 'shuo3_MV3_MP3.mp3', 'cu2_MV3_MP3.mp3', 'sui4_MV3_MP3.mp3', 'qing3_MV3_MP3.mp3', 'sang1_MV3_MP3.mp3', 'ca1_FV3_MP3.mp3', 'shao4_MV3_MP3.mp3', 'cao2_FV3_MP3.mp3', 'sa3_MV3_MP3.mp3', 'chu3_FV3_MP3.mp3', 'qiao3_MV3_MP3.mp3', 'sun4_MV3_MP3.mp3', 'cou3_MV3_MP3.mp3', 'chuo1_FV3_MP3.mp3', 'xiu3_FV3_MP3.mp3', 'chang2_FV3_MP3.mp3', 'sui1_FV3_MP3.mp3', 'ca4_MV3_MP3.mp3', 'sang4_FV3_MP3.mp3', 'qiu3_MV3_MP3.mp3', 'shao1_FV3_MP3.mp3', 'sun1_FV3_MP3.mp3', 'chuo4_MV3_MP3.mp3', 'sen3_MV3_MP3.mp3', 'xiang4_FV3_MP3.mp3', 'chao3_MV3_MP3.mp3', 'shuang2_MV3_MP3.mp3', 'xi3_MV3_MP3.mp3', 'ce3_FV3_MP3.mp3', 'che2_MV3_MP3.mp3', 'shua2_MV3_MP3.mp3', 'shang2_MV3_MP3.mp3', 'se1_MV3_MP3.mp3', 'xie2_MV3_MP3.mp3', 'chou2_FV3_MP3.mp3', 'xun2_MV3_MP3.mp3', 'sha1_MV3_MP3.mp3', 'shei1_MV3_MP3.mp3', 'xiong4_MV3_MP3.mp3', 'sao3_FV3_MP3.mp3', 'shu2_FV3_MP3.mp3', 'xu1_MV3_MP3.mp3', 'shui3_FV3_MP3.mp3', 'cheng1_MV3_MP3.mp3', 'shen1_MV3_MP3.mp3', 'shun3_FV3_MP3.mp3', 'xuan2_FV3_MP3.mp3', 'sou2_MV3_MP3.mp3', 'cuan4_MV3_MP3.mp3', 'xin4_MV3_MP3.mp3', 'song4_MV3_MP3.mp3', 'sheng1_FV3_MP3.mp3', 'chong2_MV3_MP3.mp3', 'chui1_MV3_MP3.mp3', 'chi4_MV3_MP3.mp3', 'quan1_MV3_MP3.mp3', 'can2_MV3_MP3.mp3', 'shan4_FV3_MP3.mp3', 'xue4_MV3_MP3.mp3', 'suo4_FV3_MP3.mp3', 'qian3_FV3_MP3.mp3', 'chun1_MV3_MP3.mp3', 'que1_MV3_MP3.mp3', 'qin1_MV3_MP3.mp3', 'shai4_FV3_MP3.mp3', 'cai2_MV3_MP3.mp3', 'chen3_FV3_MP3.mp3', 'sheng4_MV3_MP3.mp3', 'she3_MV3_MP3.mp3', 'song1_FV3_MP3.mp3', 'xin1_FV3_MP3.mp3', 'chui4_FV3_MP3.mp3', 'quan4_FV3_MP3.mp3', 'chi1_FV3_MP3.mp3', 'xue1_FV3_MP3.mp3', 'si2_FV3_MP3.mp3', 'shan1_MV3_MP3.mp3', 'suan3_MV3_MP3.mp3', 'suo1_MV3_MP3.mp3', 'que4_FV3_MP3.mp3', 'chun4_FV3_MP3.mp3', 'qin4_FV3_MP3.mp3', 'shai1_MV3_MP3.mp3', 'shei4_FV3_MP3.mp3', 'chan3_FV3_MP3.mp3', 'sha4_FV3_MP3.mp3', 'xu4_FV3_MP3.mp3', 'chuang3_MV3_MP3.mp3', 'xiong1_FV3_MP3.mp3', 'seng2_FV3_MP3.mp3', 'cheng4_FV3_MP3.mp3', 'cong3_MV3_MP3.mp3', 'chai3_FV3_MP3.mp3', 'qu2_FV3_MP3.mp3', 'shen4_FV3_MP3.mp3', 'cen2_MV3_MP3.mp3', 'cuan1_FV3_MP3.mp3', 'cui2_MV3_MP3.mp3', 'shui4_FV3_MP3.mp3', 'cong1_FV3_MP3.mp3', 'chan1_MV3_MP3.mp3', 'sao4_FV3_MP3.mp3', 'xiong3_MV3_MP3.mp3', 'chuang1_FV3_MP3.mp3', 'shun4_FV3_MP3.mp3', 'cun2_MV3_MP3.mp3', 'cuan3_MV3_MP3.mp3', 'chai1_MV3_MP3.mp3', 'chi3_MV3_MP3.mp3', 'xue3_MV3_MP3.mp3', 'shan3_FV3_MP3.mp3', 'she1_FV3_MP3.mp3', 'xin3_MV3_MP3.mp3', 'song3_MV3_MP3.mp3', 'ci2_FV3_MP3.mp3', 'ceng2_FV3_MP3.mp3', 'shai3_FV3_MP3.mp3', 'chen4_FV3_MP3.mp3', 'suan1_FV3_MP3.mp3', 'suo3_FV3_MP3.mp3', 'qian4_FV3_MP3.mp3', 'qiong2_FV3_MP3.mp3', 'quan3_FV3_MP3.mp3', 'she4_MV3_MP3.mp3', 'sheng3_MV3_MP3.mp3', 'chuai2_MV3_MP3.mp3', 'chui3_FV3_MP3.mp3', 'qin3_FV3_MP3.mp3', 'chen1_MV3_MP3.mp3', 'qian1_MV3_MP3.mp3', 'suan4_MV3_MP3.mp3', 'que3_FV3_MP3.mp3', 'chun3_FV3_MP3.mp3', 'chuan2_MV3_MP3.mp3', 'shui1_MV3_MP3.mp3', 'shuai2_FV3_MP3.mp3', 'cheng3_FV3_MP3.mp3', 'cong4_MV3_MP3.mp3', 'shei3_FV3_MP3.mp3', 'sha3_FV3_MP3.mp3', 'chan4_FV3_MP3.mp3', 'chuang4_MV3_MP3.mp3', 'xu3_FV3_MP3.mp3', 'xian2_FV3_MP3.mp3', 'sao1_MV3_MP3.mp3', 'shun1_MV3_MP3.mp3', 'shuan2_FV3_MP3.mp3', 'chai4_FV3_MP3.mp3', 'shen3_FV3_MP3.mp3', 'cang4_FV3_MP3.mp3', 'se3_FV3_MP3.mp3', 'chao1_FV3_MP3.mp3', 'xi1_FV3_MP3.mp3', 'shi2_MV3_MP3.mp3', 'san4_MV3_MP3.mp3', 'ce1_MV3_MP3.mp3', 'cuo2_FV3_MP3.mp3', 'shuo4_MV3_MP3.mp3', 'sai4_MV3_MP3.mp3', 'qia2_MV3_MP3.mp3', 'sa4_MV3_MP3.mp3', 'shao3_MV3_MP3.mp3', 'chu4_FV3_MP3.mp3', 'qiu1_FV3_MP3.mp3', 'qiang2_MV3_MP3.mp3', 'qing4_MV3_MP3.mp3', 'sui3_MV3_MP3.mp3', 'chua2_MV3_MP3.mp3', 'sen1_FV3_MP3.mp3', 'qiao4_MV3_MP3.mp3', 'sun3_MV3_MP3.mp3', 'xiu4_FV3_MP3.mp3', 'cou4_MV3_MP3.mp3', 'shou2_FV3_MP3.mp3', 'su2_MV3_MP3.mp3', 'cha2_FV3_MP3.mp3', 'qiu4_MV3_MP3.mp3', 'chu1_MV3_MP3.mp3', 'sa1_FV3_MP3.mp3', 'qing1_FV3_MP3.mp3', 'ca3_MV3_MP3.mp3', 'sang3_FV3_MP3.mp3', 'sen4_MV3_MP3.mp3', 'xia2_FV3_MP3.mp3', 'qiao1_FV3_MP3.mp3', 'cou1_FV3_MP3.mp3', 'chuo3_MV3_MP3.mp3', 'xiu1_MV3_MP3.mp3', 'cang1_MV3_MP3.mp3', 'xi4_MV3_MP3.mp3', 'chao4_MV3_MP3.mp3', 'xiang3_FV3_MP3.mp3', 'ce4_FV3_MP3.mp3', 'xiao2_MV3_MP3.mp3', 'san1_FV3_MP3.mp3', 'shuo1_FV3_MP3.mp3', 'xing2_MV3_MP3.mp3', 'qi2_MV3_MP3.mp3', 'sai1_FV3_MP3.mp3', 'qiao1_MV3_MP3.mp3', 'xia2_MV3_MP3.mp3', 'xiu1_FV3_MP3.mp3', 'chuo3_FV3_MP3.mp3', 'cou1_MV3_MP3.mp3', 'sen4_FV3_MP3.mp3', 'qing1_MV3_MP3.mp3', 'ca3_FV3_MP3.mp3', 'sang3_MV3_MP3.mp3', 'su2_FV3_MP3.mp3', 'cha2_MV3_MP3.mp3', 'qiu4_FV3_MP3.mp3', 'chu1_FV3_MP3.mp3', 'sa1_MV3_MP3.mp3', 'xing2_FV3_MP3.mp3', 'sai1_MV3_MP3.mp3', 'qi2_FV3_MP3.mp3', 'shuo1_MV3_MP3.mp3', 'xiang3_MV3_MP3.mp3', 'chao4_FV3_MP3.mp3', 'xi4_FV3_MP3.mp3', 'san1_MV3_MP3.mp3', 'xiao2_FV3_MP3.mp3', 'ce4_MV3_MP3.mp3', 'cang1_FV3_MP3.mp3', 'sai4_FV3_MP3.mp3', 'shuo4_FV3_MP3.mp3', 'cuo2_MV3_MP3.mp3', 'shi2_FV3_MP3.mp3', 'xi1_MV3_MP3.mp3', 'chao1_MV3_MP3.mp3', 'ce1_FV3_MP3.mp3', 'san4_FV3_MP3.mp3', 'cang4_MV3_MP3.mp3', 'se3_MV3_MP3.mp3', 'qiao4_FV3_MP3.mp3', 'sun3_FV3_MP3.mp3', 'shou2_MV3_MP3.mp3', 'cou4_FV3_MP3.mp3', 'xiu4_MV3_MP3.mp3', 'sen1_MV3_MP3.mp3', 'sui3_FV3_MP3.mp3', 'qing4_FV3_MP3.mp3', 'chua2_FV3_MP3.mp3', 'qia2_FV3_MP3.mp3', 'shao3_FV3_MP3.mp3', 'sa4_FV3_MP3.mp3', 'chu4_MV3_MP3.mp3', 'qiang2_FV3_MP3.mp3', 'qiu1_MV3_MP3.mp3', 'suan4_FV3_MP3.mp3', 'qian1_FV3_MP3.mp3', 'que3_MV3_MP3.mp3', 'chuan2_FV3_MP3.mp3', 'chun3_MV3_MP3.mp3', 'qin3_MV3_MP3.mp3', 'chen1_FV3_MP3.mp3', 'sheng3_FV3_MP3.mp3', 'she4_FV3_MP3.mp3', 'chui3_MV3_MP3.mp3', 'chuai2_FV3_MP3.mp3', 'quan3_MV3_MP3.mp3', 'qiong2_MV3_MP3.mp3', 'chai4_MV3_MP3.mp3', 'shen3_MV3_MP3.mp3', 'shuan2_MV3_MP3.mp3', 'shun1_FV3_MP3.mp3', 'shei3_MV3_MP3.mp3', 'chan4_MV3_MP3.mp3', 'sha3_MV3_MP3.mp3', 'xu3_MV3_MP3.mp3', 'sao1_FV3_MP3.mp3', 'xian2_MV3_MP3.mp3', 'chuang4_FV3_MP3.mp3', 'shuai2_MV3_MP3.mp3', 'shui1_FV3_MP3.mp3', 'cheng3_MV3_MP3.mp3', 'cong4_FV3_MP3.mp3', 'chai1_FV3_MP3.mp3', 'cun2_FV3_MP3.mp3', 'shun4_MV3_MP3.mp3', 'cuan3_FV3_MP3.mp3', 'chan1_FV3_MP3.mp3', 'xiong3_FV3_MP3.mp3', 'chuang1_MV3_MP3.mp3', 'sao4_MV3_MP3.mp3', 'shui4_MV3_MP3.mp3', 'cui2_FV3_MP3.mp3', 'cong1_MV3_MP3.mp3', 'suo3_MV3_MP3.mp3', 'qian4_MV3_MP3.mp3', 'suan1_MV3_MP3.mp3', 'shai3_MV3_MP3.mp3', 'chen4_MV3_MP3.mp3', 'xin3_FV3_MP3.mp3', 'song3_FV3_MP3.mp3', 'she1_MV3_MP3.mp3', 'ceng2_MV3_MP3.mp3', 'ci2_MV3_MP3.mp3', 'chi3_FV3_MP3.mp3', 'shan3_MV3_MP3.mp3', 'xue3_FV3_MP3.mp3', 'chuan4_MV3_MP3.mp3', 'suan2_MV3_MP3.mp3', 'si3_FV3_MP3.mp3', 'qiong4_FV3_MP3.mp3', 'ceng1_MV3_MP3.mp3', 'chuai4_MV3_MP3.mp3', 'ci1_MV3_MP3.mp3', 'she2_MV3_MP3.mp3', 'cun1_FV3_MP3.mp3', 'shuan4_FV3_MP3.mp3', 'chai2_FV3_MP3.mp3', 'cen3_MV3_MP3.mp3', 'qu3_FV3_MP3.mp3', 'cong2_MV3_MP3.mp3', 'cui1_FV3_MP3.mp3', 'seng3_FV3_MP3.mp3', 'shuai4_FV3_MP3.mp3', 'chuang2_MV3_MP3.mp3', 'xian4_FV3_MP3.mp3', 'chan2_FV3_MP3.mp3', 'sou3_MV3_MP3.mp3', 'xuan3_FV3_MP3.mp3', 'shuan1_MV3_MP3.mp3', 'shun2_FV3_MP3.mp3', 'cun4_MV3_MP3.mp3', 'shuai1_MV3_MP3.mp3', 'cui4_MV3_MP3.mp3', 'shui2_FV3_MP3.mp3', 'sao2_FV3_MP3.mp3', 'xian1_MV3_MP3.mp3', 'shu3_FV3_MP3.mp3', 'cai3_MV3_MP3.mp3', 'chen2_FV3_MP3.mp3', 'chuan1_FV3_MP3.mp3', 'qian2_FV3_MP3.mp3', 'can3_MV3_MP3.mp3', 'qiong1_MV3_MP3.mp3', 'ci4_FV3_MP3.mp3', 'chuai1_FV3_MP3.mp3', 'ceng4_FV3_MP3.mp3', 'chong3_MV3_MP3.mp3', 'sen2_MV3_MP3.mp3', 'shou1_MV3_MP3.mp3', 'xia4_FV3_MP3.mp3', 'qiang1_FV3_MP3.mp3', 'qiu2_MV3_MP3.mp3', 'su4_MV3_MP3.mp3', 'cha4_FV3_MP3.mp3', 'qia1_FV3_MP3.mp3', 'chua1_FV3_MP3.mp3', 'chang3_FV3_MP3.mp3', 'xun3_MV3_MP3.mp3', 'cuo1_MV3_MP3.mp3', 'chou3_FV3_MP3.mp3', 'xing4_MV3_MP3.mp3', 'qi4_MV3_MP3.mp3', 'xie3_MV3_MP3.mp3', 'shang3_MV3_MP3.mp3', 'shua3_MV3_MP3.mp3', 'che3_MV3_MP3.mp3', 'ce2_FV3_MP3.mp3', 'xiao4_MV3_MP3.mp3', 'xi2_MV3_MP3.mp3', 'shi1_FV3_MP3.mp3', 'chao2_MV3_MP3.mp3', 'shuang3_MV3_MP3.mp3', 'cuo4_FV3_MP3.mp3', 'shuo2_MV3_MP3.mp3', 'qi1_FV3_MP3.mp3', 'sai2_MV3_MP3.mp3', 'xing1_FV3_MP3.mp3', 'qie3_FV3_MP3.mp3', 'cang2_FV3_MP3.mp3', 'san2_MV3_MP3.mp3', 'xiao1_FV3_MP3.mp3', 'qun3_FV3_MP3.mp3', 'shi4_MV3_MP3.mp3', 'xiu2_FV3_MP3.mp3', 'cou2_MV3_MP3.mp3', 'shou4_FV3_MP3.mp3', 'qiao2_MV3_MP3.mp3', 'xia1_MV3_MP3.mp3', 'sa2_MV3_MP3.mp3', 'cao3_FV3_MP3.mp3', 'chu2_FV3_MP3.mp3', 'qiang4_MV3_MP3.mp3', 'qia4_MV3_MP3.mp3', 'cha1_MV3_MP3.mp3', 'su1_FV3_MP3.mp3', 'chua4_MV3_MP3.mp3', 'qing2_MV3_MP3.mp3', 'cu3_MV3_MP3.mp3', 'qun3_MV3_MP3.mp3', 'xiao1_MV3_MP3.mp3', 'san2_FV3_MP3.mp3', 'shi4_FV3_MP3.mp3', 'cang2_MV3_MP3.mp3', 'qie3_MV3_MP3.mp3', 'sai2_FV3_MP3.mp3', 'qi1_MV3_MP3.mp3', 'xing1_MV3_MP3.mp3', 'shuo2_FV3_MP3.mp3', 'cuo4_MV3_MP3.mp3', 'chua4_FV3_MP3.mp3', 'cu3_FV3_MP3.mp3', 'qing2_FV3_MP3.mp3', 'cao3_MV3_MP3.mp3', 'sa2_FV3_MP3.mp3', 'chu2_MV3_MP3.mp3', 'qiang4_FV3_MP3.mp3', 'qia4_FV3_MP3.mp3', 'cha1_FV3_MP3.mp3', 'su1_MV3_MP3.mp3', 'shou4_MV3_MP3.mp3', 'cou2_FV3_MP3.mp3', 'xiu2_MV3_MP3.mp3', 'xia1_FV3_MP3.mp3', 'qiao2_FV3_MP3.mp3', 'chua1_MV3_MP3.mp3', 'chang3_MV3_MP3.mp3', 'qiu2_FV3_MP3.mp3', 'qiang1_MV3_MP3.mp3', 'su4_FV3_MP3.mp3', 'cha4_MV3_MP3.mp3', 'qia1_MV3_MP3.mp3', 'shou1_FV3_MP3.mp3', 'xia4_MV3_MP3.mp3', 'sen2_FV3_MP3.mp3', 'xiao4_FV3_MP3.mp3', 'ce2_MV3_MP3.mp3', 'shuang3_FV3_MP3.mp3', 'chao2_FV3_MP3.mp3', 'shi1_MV3_MP3.mp3', 'xi2_FV3_MP3.mp3', 'shang3_FV3_MP3.mp3', 'che3_FV3_MP3.mp3', 'shua3_FV3_MP3.mp3', 'xing4_FV3_MP3.mp3', 'qi4_FV3_MP3.mp3', 'xie3_FV3_MP3.mp3', 'xun3_FV3_MP3.mp3', 'chou3_MV3_MP3.mp3', 'cuo1_FV3_MP3.mp3', 'xian1_FV3_MP3.mp3', 'sao2_MV3_MP3.mp3', 'shu3_MV3_MP3.mp3', 'shui2_MV3_MP3.mp3', 'cui4_FV3_MP3.mp3', 'shuai1_FV3_MP3.mp3', 'xuan3_MV3_MP3.mp3', 'sou3_FV3_MP3.mp3', 'cun4_FV3_MP3.mp3', 'shun2_MV3_MP3.mp3', 'shuan1_FV3_MP3.mp3', 'ceng4_MV3_MP3.mp3', 'chong3_FV3_MP3.mp3', 'ci4_MV3_MP3.mp3', 'chuai1_MV3_MP3.mp3', 'can3_FV3_MP3.mp3', 'qiong1_FV3_MP3.mp3', 'chuan1_MV3_MP3.mp3', 'qian2_MV3_MP3.mp3', 'cai3_FV3_MP3.mp3', 'chen2_MV3_MP3.mp3', 'chuai4_FV3_MP3.mp3', 'ci1_FV3_MP3.mp3', 'ceng1_FV3_MP3.mp3', 'she2_FV3_MP3.mp3', 'si3_MV3_MP3.mp3', 'qiong4_MV3_MP3.mp3', 'chuan4_FV3_MP3.mp3', 'suan2_FV3_MP3.mp3', 'xian4_MV3_MP3.mp3', 'chuang2_FV3_MP3.mp3', 'chan2_MV3_MP3.mp3', 'cong2_FV3_MP3.mp3', 'shuai4_MV3_MP3.mp3', 'seng3_MV3_MP3.mp3', 'cui1_MV3_MP3.mp3', 'chai2_MV3_MP3.mp3', 'qu3_MV3_MP3.mp3', 'cen3_FV3_MP3.mp3', 'shuan4_MV3_MP3.mp3', 'cun1_MV3_MP3.mp3']\n",
      "getting mfcc\n"
     ]
    },
    {
     "name": "stdout",
     "output_type": "stream",
     "text": [
      "getting chromagram\n"
     ]
    }
   ],
   "source": [
    "##save the current directory\n",
    "cwd = os.getcwd()\n",
    "\n",
    "##change to sound file directory !!hard-coded\n",
    "audio_dir = '/Users/panchanok/Desktop/PyHack2019/PyHack2019/sound_samples/validate/'\n",
    "os.chdir(audio_dir)\n",
    "\n",
    "##list files in the directory\n",
    "audio_files = os.listdir(audio_dir)\n",
    "print('Taking: ', audio_files)\n",
    "\n",
    "\n",
    "## return a (flatten) one-D array of mfcc of an audio file\n",
    "def getMFCC(audio_file):\n",
    "\n",
    "    #print('*getting ', audio_file)\n",
    "    y, sr = librosa.load(audio_file)\n",
    "    # Compute MFCC features from the raw signal\n",
    "    return librosa.feature.mfcc(y=y, sr=sr, hop_length=hop_length, n_mfcc=13).flatten()\n",
    "\n",
    "## return a (flatten) one-D array of chromagram of an audio file\n",
    "def getChroma(audio_file):\n",
    "\n",
    "    y, sr = librosa.load(audio_file)\n",
    "    # Separate harmonics and percussives into two waveforms\n",
    "    y_harmonic, y_percussive = librosa.effects.hpss(y)\n",
    "\n",
    "    # Compute chroma features from the harmonic signal\n",
    "    return librosa.feature.chroma_cqt(y=y_harmonic,\n",
    "                                            sr=sr).flatten()\n",
    "\n",
    "\n",
    "## return a list of 1-d array of MFCC padded with 0's of ALL audio files\n",
    "def getPaddedMFCC(audio_files):\n",
    "    result = [getMFCC(f) for f in audio_files]\n",
    "\n",
    "    ##pad arrays with 0's. Get arrays of size Max\n",
    "    max_len = max([len(x) for x in result])\n",
    "    padded = [np.pad(x, (0, max_len - len(x)), mode = 'constant') for x in result]\n",
    "\n",
    "    ##sanity check\n",
    "    is_shorter = sum([len(x) - max_len for x in padded])\n",
    "    if is_shorter < 0:\n",
    "        print('not padded well')\n",
    "        return -1\n",
    "    else:\n",
    "        return padded\n",
    "\n",
    "## return a list of 1-d array of chromagram padded with 0's of ALL audio files\n",
    "def getPaddedChroma(audio_files):\n",
    "    result = [getChroma(f) for f in audio_files]\n",
    "\n",
    "    ##pad arrays with 0's. Get arrays of size Max\n",
    "    max_len = max([len(x) for x in result])\n",
    "    padded = [np.pad(x, (0, max_len - len(x)), mode = 'constant') for x in result]\n",
    "\n",
    "    ##sanity check\n",
    "    is_shorter = sum([len(x) - max_len for x in padded])\n",
    "    if is_shorter < 0:\n",
    "        print('not padded well')\n",
    "        return -1\n",
    "    else:\n",
    "        return padded\n",
    "\n",
    "print('getting mfcc')\n",
    "mfcc = getPaddedMFCC(audio_files)\n",
    "print('getting chromagram')\n",
    "chrom = getPaddedChroma(audio_files)\n",
    "\n",
    "if mfcc == -1 or chrom == -1:\n",
    "    print('ATTENTION: some instance is not padded')\n",
    "    exit()\n"
   ]
  },
  {
   "cell_type": "markdown",
   "metadata": {},
   "source": [
    "If there is error from the above chunk, make sure only mp3 is included in aggr/. Check even invisible .dstore"
   ]
  },
  {
   "cell_type": "code",
   "execution_count": 3,
   "metadata": {},
   "outputs": [
    {
     "name": "stdout",
     "output_type": "stream",
     "text": [
      "Attribute data saved as  attr_in_20_33_40.csv\n",
      "Target data saved as  target_in_20_33_40.csv\n"
     ]
    }
   ],
   "source": [
    "\n",
    "## concatenate mfcc and chrom features\n",
    "attr_input = [np.hstack([m, c]) for m, c in zip(mfcc, chrom)]\n",
    "\n",
    "## checking the final length\n",
    "#print(len(mfcc[5]), len(chrom[5]), len(x[5]))\n",
    "\n",
    "\n",
    "##detect targets from sound names\n",
    "p = re.compile('^[aeou]|[bcdfghjklmnpqrstwxyz]+(?=[aeiou])')\n",
    "target_input = [p.match(f).group() for f in audio_files]\n",
    "\n",
    "##for debugging\n",
    "# for i in range(len(audio_files)):\n",
    "#     f = audio_files[i]\n",
    "#     print(f)\n",
    "#     p.match(f).group()\n",
    "\n",
    "## check corrrectness\n",
    "#print(target)\n",
    "#print(audio_files)\n",
    "\n",
    "\n",
    "# ## tag labels to attributes. Return 2-d array.\n",
    "# labeled_input = np.array([np.hstack([i, l]) for i, l in zip(att_input, target)])\n",
    "\n",
    "\n",
    "os.chdir(cwd)\n",
    "this_time = datetime.now().strftime('%H_%M_%S')\n",
    "attr_export_name = 'attr_in_' + this_time + '.csv'\n",
    "target_export_name = 'target_in_' + this_time + '.csv'\n",
    "\n",
    "with open(attr_export_name,\"w+\") as processed:\n",
    "    csvWriter = csv.writer(processed,delimiter=',')\n",
    "    csvWriter.writerows(attr_input)\n",
    "\n",
    "with open(target_export_name,\"w+\") as processed:\n",
    "    csvWriter = csv.writer(processed,delimiter=',')\n",
    "    csvWriter.writerows(target_input)\n",
    "\n",
    "## check final lengths\n",
    "#print(len(att_input[3]), len(labeled_input[3]), labeled_input)\n",
    "print('Attribute data saved as ', attr_export_name)\n",
    "print('Target data saved as ', target_export_name)\n"
   ]
  }
 ],
 "metadata": {
  "kernelspec": {
   "display_name": "Python 3",
   "language": "python",
   "name": "python3"
  },
  "language_info": {
   "codemirror_mode": {
    "name": "ipython",
    "version": 3
   },
   "file_extension": ".py",
   "mimetype": "text/x-python",
   "name": "python",
   "nbconvert_exporter": "python",
   "pygments_lexer": "ipython3",
   "version": "3.7.3"
  }
 },
 "nbformat": 4,
 "nbformat_minor": 2
}
